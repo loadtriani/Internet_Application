{
  "nbformat": 4,
  "nbformat_minor": 0,
  "metadata": {
    "colab": {
      "provenance": [],
      "gpuType": "T4"
    },
    "kernelspec": {
      "name": "python3",
      "display_name": "Python 3"
    },
    "language_info": {
      "name": "python"
    },
    "accelerator": "GPU"
  },
  "cells": [
    {
      "cell_type": "markdown",
      "source": [
        "# Baca data"
      ],
      "metadata": {
        "id": "wC0-1pDrM7yQ"
      }
    },
    {
      "cell_type": "code",
      "source": [
        "from google.colab import drive\n",
        "drive.mount('/content/drive')"
      ],
      "metadata": {
        "colab": {
          "base_uri": "https://localhost:8080/"
        },
        "id": "Br8KZ39-8p1b",
        "outputId": "52b358e4-cc29-4df3-bec3-d149185bc90e"
      },
      "execution_count": null,
      "outputs": [
        {
          "output_type": "stream",
          "name": "stdout",
          "text": [
            "Mounted at /content/drive\n"
          ]
        }
      ]
    },
    {
      "cell_type": "markdown",
      "source": [
        "# 1. Data Preprocessing"
      ],
      "metadata": {
        "id": "IOv6ts-xKjjc"
      }
    },
    {
      "cell_type": "code",
      "source": [
        "import numpy as np\n",
        "import pandas as pd\n",
        "import matplotlib.pyplot as plt\n",
        "import seaborn as sns"
      ],
      "metadata": {
        "id": "B-58oduAJvtx"
      },
      "execution_count": null,
      "outputs": []
    },
    {
      "cell_type": "code",
      "source": [
        "df = pd.read_csv(\"/content/drive/MyDrive/Colab Notebooks/data.csv\")\n",
        "df"
      ],
      "metadata": {
        "colab": {
          "base_uri": "https://localhost:8080/",
          "height": 877
        },
        "id": "yJWe4pkJKsM8",
        "outputId": "cc3c0697-cdbb-418a-82c2-7a212df5bb66"
      },
      "execution_count": null,
      "outputs": [
        {
          "output_type": "execute_result",
          "data": {
            "text/plain": [
              "     Age  Duration  Frequency  Location  Character  Intensity  Nausea  Vomit  \\\n",
              "0     30         1          5         1          1          2       1      0   \n",
              "1     50         3          5         1          1          3       1      1   \n",
              "2     53         2          1         1          1          2       1      1   \n",
              "3     45         3          5         1          1          3       1      0   \n",
              "4     53         1          1         1          1          2       1      0   \n",
              "..   ...       ...        ...       ...        ...        ...     ...    ...   \n",
              "395   39         1          1         1          1          3       1      1   \n",
              "396   20         3          2         1          1          3       1      0   \n",
              "397   28         3          2         1          1          3       1      0   \n",
              "398   20         3          1         1          1          3       1      0   \n",
              "399   37         1          1         1          1          3       1      1   \n",
              "\n",
              "     Phonophobia  Photophobia  ...  Vertigo  Tinnitus  Hypoacusis  Diplopia  \\\n",
              "0              1            1  ...        0         0           0         0   \n",
              "1              1            1  ...        1         0           0         0   \n",
              "2              1            1  ...        0         0           0         0   \n",
              "3              1            1  ...        1         0           0         0   \n",
              "4              1            1  ...        0         0           0         0   \n",
              "..           ...          ...  ...      ...       ...         ...       ...   \n",
              "395            1            1  ...        1         0           0         1   \n",
              "396            1            1  ...        0         1           1         0   \n",
              "397            1            1  ...        1         0           0         0   \n",
              "398            1            1  ...        1         0           0         0   \n",
              "399            1            1  ...        1         0           0         0   \n",
              "\n",
              "     Defect  Ataxia  Conscience  Paresthesia  DPF                        Type  \n",
              "0         0       0           0            0    0  Typical aura with migraine  \n",
              "1         0       0           0            0    0  Typical aura with migraine  \n",
              "2         0       0           0            0    0  Typical aura with migraine  \n",
              "3         0       0           0            0    0  Typical aura with migraine  \n",
              "4         0       0           0            0    1  Typical aura with migraine  \n",
              "..      ...     ...         ...          ...  ...                         ...  \n",
              "395       0       0           0            0    1           Basilar-type aura  \n",
              "396       0       0           0            0    1           Basilar-type aura  \n",
              "397       1       0           0            0    1           Basilar-type aura  \n",
              "398       0       0           0            1    1           Basilar-type aura  \n",
              "399       0       0           1            0    1           Basilar-type aura  \n",
              "\n",
              "[400 rows x 24 columns]"
            ],
            "text/html": [
              "\n",
              "  <div id=\"df-0b74af84-120e-4c90-bc08-908ef5b57f1d\" class=\"colab-df-container\">\n",
              "    <div>\n",
              "<style scoped>\n",
              "    .dataframe tbody tr th:only-of-type {\n",
              "        vertical-align: middle;\n",
              "    }\n",
              "\n",
              "    .dataframe tbody tr th {\n",
              "        vertical-align: top;\n",
              "    }\n",
              "\n",
              "    .dataframe thead th {\n",
              "        text-align: right;\n",
              "    }\n",
              "</style>\n",
              "<table border=\"1\" class=\"dataframe\">\n",
              "  <thead>\n",
              "    <tr style=\"text-align: right;\">\n",
              "      <th></th>\n",
              "      <th>Age</th>\n",
              "      <th>Duration</th>\n",
              "      <th>Frequency</th>\n",
              "      <th>Location</th>\n",
              "      <th>Character</th>\n",
              "      <th>Intensity</th>\n",
              "      <th>Nausea</th>\n",
              "      <th>Vomit</th>\n",
              "      <th>Phonophobia</th>\n",
              "      <th>Photophobia</th>\n",
              "      <th>...</th>\n",
              "      <th>Vertigo</th>\n",
              "      <th>Tinnitus</th>\n",
              "      <th>Hypoacusis</th>\n",
              "      <th>Diplopia</th>\n",
              "      <th>Defect</th>\n",
              "      <th>Ataxia</th>\n",
              "      <th>Conscience</th>\n",
              "      <th>Paresthesia</th>\n",
              "      <th>DPF</th>\n",
              "      <th>Type</th>\n",
              "    </tr>\n",
              "  </thead>\n",
              "  <tbody>\n",
              "    <tr>\n",
              "      <th>0</th>\n",
              "      <td>30</td>\n",
              "      <td>1</td>\n",
              "      <td>5</td>\n",
              "      <td>1</td>\n",
              "      <td>1</td>\n",
              "      <td>2</td>\n",
              "      <td>1</td>\n",
              "      <td>0</td>\n",
              "      <td>1</td>\n",
              "      <td>1</td>\n",
              "      <td>...</td>\n",
              "      <td>0</td>\n",
              "      <td>0</td>\n",
              "      <td>0</td>\n",
              "      <td>0</td>\n",
              "      <td>0</td>\n",
              "      <td>0</td>\n",
              "      <td>0</td>\n",
              "      <td>0</td>\n",
              "      <td>0</td>\n",
              "      <td>Typical aura with migraine</td>\n",
              "    </tr>\n",
              "    <tr>\n",
              "      <th>1</th>\n",
              "      <td>50</td>\n",
              "      <td>3</td>\n",
              "      <td>5</td>\n",
              "      <td>1</td>\n",
              "      <td>1</td>\n",
              "      <td>3</td>\n",
              "      <td>1</td>\n",
              "      <td>1</td>\n",
              "      <td>1</td>\n",
              "      <td>1</td>\n",
              "      <td>...</td>\n",
              "      <td>1</td>\n",
              "      <td>0</td>\n",
              "      <td>0</td>\n",
              "      <td>0</td>\n",
              "      <td>0</td>\n",
              "      <td>0</td>\n",
              "      <td>0</td>\n",
              "      <td>0</td>\n",
              "      <td>0</td>\n",
              "      <td>Typical aura with migraine</td>\n",
              "    </tr>\n",
              "    <tr>\n",
              "      <th>2</th>\n",
              "      <td>53</td>\n",
              "      <td>2</td>\n",
              "      <td>1</td>\n",
              "      <td>1</td>\n",
              "      <td>1</td>\n",
              "      <td>2</td>\n",
              "      <td>1</td>\n",
              "      <td>1</td>\n",
              "      <td>1</td>\n",
              "      <td>1</td>\n",
              "      <td>...</td>\n",
              "      <td>0</td>\n",
              "      <td>0</td>\n",
              "      <td>0</td>\n",
              "      <td>0</td>\n",
              "      <td>0</td>\n",
              "      <td>0</td>\n",
              "      <td>0</td>\n",
              "      <td>0</td>\n",
              "      <td>0</td>\n",
              "      <td>Typical aura with migraine</td>\n",
              "    </tr>\n",
              "    <tr>\n",
              "      <th>3</th>\n",
              "      <td>45</td>\n",
              "      <td>3</td>\n",
              "      <td>5</td>\n",
              "      <td>1</td>\n",
              "      <td>1</td>\n",
              "      <td>3</td>\n",
              "      <td>1</td>\n",
              "      <td>0</td>\n",
              "      <td>1</td>\n",
              "      <td>1</td>\n",
              "      <td>...</td>\n",
              "      <td>1</td>\n",
              "      <td>0</td>\n",
              "      <td>0</td>\n",
              "      <td>0</td>\n",
              "      <td>0</td>\n",
              "      <td>0</td>\n",
              "      <td>0</td>\n",
              "      <td>0</td>\n",
              "      <td>0</td>\n",
              "      <td>Typical aura with migraine</td>\n",
              "    </tr>\n",
              "    <tr>\n",
              "      <th>4</th>\n",
              "      <td>53</td>\n",
              "      <td>1</td>\n",
              "      <td>1</td>\n",
              "      <td>1</td>\n",
              "      <td>1</td>\n",
              "      <td>2</td>\n",
              "      <td>1</td>\n",
              "      <td>0</td>\n",
              "      <td>1</td>\n",
              "      <td>1</td>\n",
              "      <td>...</td>\n",
              "      <td>0</td>\n",
              "      <td>0</td>\n",
              "      <td>0</td>\n",
              "      <td>0</td>\n",
              "      <td>0</td>\n",
              "      <td>0</td>\n",
              "      <td>0</td>\n",
              "      <td>0</td>\n",
              "      <td>1</td>\n",
              "      <td>Typical aura with migraine</td>\n",
              "    </tr>\n",
              "    <tr>\n",
              "      <th>...</th>\n",
              "      <td>...</td>\n",
              "      <td>...</td>\n",
              "      <td>...</td>\n",
              "      <td>...</td>\n",
              "      <td>...</td>\n",
              "      <td>...</td>\n",
              "      <td>...</td>\n",
              "      <td>...</td>\n",
              "      <td>...</td>\n",
              "      <td>...</td>\n",
              "      <td>...</td>\n",
              "      <td>...</td>\n",
              "      <td>...</td>\n",
              "      <td>...</td>\n",
              "      <td>...</td>\n",
              "      <td>...</td>\n",
              "      <td>...</td>\n",
              "      <td>...</td>\n",
              "      <td>...</td>\n",
              "      <td>...</td>\n",
              "      <td>...</td>\n",
              "    </tr>\n",
              "    <tr>\n",
              "      <th>395</th>\n",
              "      <td>39</td>\n",
              "      <td>1</td>\n",
              "      <td>1</td>\n",
              "      <td>1</td>\n",
              "      <td>1</td>\n",
              "      <td>3</td>\n",
              "      <td>1</td>\n",
              "      <td>1</td>\n",
              "      <td>1</td>\n",
              "      <td>1</td>\n",
              "      <td>...</td>\n",
              "      <td>1</td>\n",
              "      <td>0</td>\n",
              "      <td>0</td>\n",
              "      <td>1</td>\n",
              "      <td>0</td>\n",
              "      <td>0</td>\n",
              "      <td>0</td>\n",
              "      <td>0</td>\n",
              "      <td>1</td>\n",
              "      <td>Basilar-type aura</td>\n",
              "    </tr>\n",
              "    <tr>\n",
              "      <th>396</th>\n",
              "      <td>20</td>\n",
              "      <td>3</td>\n",
              "      <td>2</td>\n",
              "      <td>1</td>\n",
              "      <td>1</td>\n",
              "      <td>3</td>\n",
              "      <td>1</td>\n",
              "      <td>0</td>\n",
              "      <td>1</td>\n",
              "      <td>1</td>\n",
              "      <td>...</td>\n",
              "      <td>0</td>\n",
              "      <td>1</td>\n",
              "      <td>1</td>\n",
              "      <td>0</td>\n",
              "      <td>0</td>\n",
              "      <td>0</td>\n",
              "      <td>0</td>\n",
              "      <td>0</td>\n",
              "      <td>1</td>\n",
              "      <td>Basilar-type aura</td>\n",
              "    </tr>\n",
              "    <tr>\n",
              "      <th>397</th>\n",
              "      <td>28</td>\n",
              "      <td>3</td>\n",
              "      <td>2</td>\n",
              "      <td>1</td>\n",
              "      <td>1</td>\n",
              "      <td>3</td>\n",
              "      <td>1</td>\n",
              "      <td>0</td>\n",
              "      <td>1</td>\n",
              "      <td>1</td>\n",
              "      <td>...</td>\n",
              "      <td>1</td>\n",
              "      <td>0</td>\n",
              "      <td>0</td>\n",
              "      <td>0</td>\n",
              "      <td>1</td>\n",
              "      <td>0</td>\n",
              "      <td>0</td>\n",
              "      <td>0</td>\n",
              "      <td>1</td>\n",
              "      <td>Basilar-type aura</td>\n",
              "    </tr>\n",
              "    <tr>\n",
              "      <th>398</th>\n",
              "      <td>20</td>\n",
              "      <td>3</td>\n",
              "      <td>1</td>\n",
              "      <td>1</td>\n",
              "      <td>1</td>\n",
              "      <td>3</td>\n",
              "      <td>1</td>\n",
              "      <td>0</td>\n",
              "      <td>1</td>\n",
              "      <td>1</td>\n",
              "      <td>...</td>\n",
              "      <td>1</td>\n",
              "      <td>0</td>\n",
              "      <td>0</td>\n",
              "      <td>0</td>\n",
              "      <td>0</td>\n",
              "      <td>0</td>\n",
              "      <td>0</td>\n",
              "      <td>1</td>\n",
              "      <td>1</td>\n",
              "      <td>Basilar-type aura</td>\n",
              "    </tr>\n",
              "    <tr>\n",
              "      <th>399</th>\n",
              "      <td>37</td>\n",
              "      <td>1</td>\n",
              "      <td>1</td>\n",
              "      <td>1</td>\n",
              "      <td>1</td>\n",
              "      <td>3</td>\n",
              "      <td>1</td>\n",
              "      <td>1</td>\n",
              "      <td>1</td>\n",
              "      <td>1</td>\n",
              "      <td>...</td>\n",
              "      <td>1</td>\n",
              "      <td>0</td>\n",
              "      <td>0</td>\n",
              "      <td>0</td>\n",
              "      <td>0</td>\n",
              "      <td>0</td>\n",
              "      <td>1</td>\n",
              "      <td>0</td>\n",
              "      <td>1</td>\n",
              "      <td>Basilar-type aura</td>\n",
              "    </tr>\n",
              "  </tbody>\n",
              "</table>\n",
              "<p>400 rows × 24 columns</p>\n",
              "</div>\n",
              "    <div class=\"colab-df-buttons\">\n",
              "\n",
              "  <div class=\"colab-df-container\">\n",
              "    <button class=\"colab-df-convert\" onclick=\"convertToInteractive('df-0b74af84-120e-4c90-bc08-908ef5b57f1d')\"\n",
              "            title=\"Convert this dataframe to an interactive table.\"\n",
              "            style=\"display:none;\">\n",
              "\n",
              "  <svg xmlns=\"http://www.w3.org/2000/svg\" height=\"24px\" viewBox=\"0 -960 960 960\">\n",
              "    <path d=\"M120-120v-720h720v720H120Zm60-500h600v-160H180v160Zm220 220h160v-160H400v160Zm0 220h160v-160H400v160ZM180-400h160v-160H180v160Zm440 0h160v-160H620v160ZM180-180h160v-160H180v160Zm440 0h160v-160H620v160Z\"/>\n",
              "  </svg>\n",
              "    </button>\n",
              "\n",
              "  <style>\n",
              "    .colab-df-container {\n",
              "      display:flex;\n",
              "      gap: 12px;\n",
              "    }\n",
              "\n",
              "    .colab-df-convert {\n",
              "      background-color: #E8F0FE;\n",
              "      border: none;\n",
              "      border-radius: 50%;\n",
              "      cursor: pointer;\n",
              "      display: none;\n",
              "      fill: #1967D2;\n",
              "      height: 32px;\n",
              "      padding: 0 0 0 0;\n",
              "      width: 32px;\n",
              "    }\n",
              "\n",
              "    .colab-df-convert:hover {\n",
              "      background-color: #E2EBFA;\n",
              "      box-shadow: 0px 1px 2px rgba(60, 64, 67, 0.3), 0px 1px 3px 1px rgba(60, 64, 67, 0.15);\n",
              "      fill: #174EA6;\n",
              "    }\n",
              "\n",
              "    .colab-df-buttons div {\n",
              "      margin-bottom: 4px;\n",
              "    }\n",
              "\n",
              "    [theme=dark] .colab-df-convert {\n",
              "      background-color: #3B4455;\n",
              "      fill: #D2E3FC;\n",
              "    }\n",
              "\n",
              "    [theme=dark] .colab-df-convert:hover {\n",
              "      background-color: #434B5C;\n",
              "      box-shadow: 0px 1px 3px 1px rgba(0, 0, 0, 0.15);\n",
              "      filter: drop-shadow(0px 1px 2px rgba(0, 0, 0, 0.3));\n",
              "      fill: #FFFFFF;\n",
              "    }\n",
              "  </style>\n",
              "\n",
              "    <script>\n",
              "      const buttonEl =\n",
              "        document.querySelector('#df-0b74af84-120e-4c90-bc08-908ef5b57f1d button.colab-df-convert');\n",
              "      buttonEl.style.display =\n",
              "        google.colab.kernel.accessAllowed ? 'block' : 'none';\n",
              "\n",
              "      async function convertToInteractive(key) {\n",
              "        const element = document.querySelector('#df-0b74af84-120e-4c90-bc08-908ef5b57f1d');\n",
              "        const dataTable =\n",
              "          await google.colab.kernel.invokeFunction('convertToInteractive',\n",
              "                                                    [key], {});\n",
              "        if (!dataTable) return;\n",
              "\n",
              "        const docLinkHtml = 'Like what you see? Visit the ' +\n",
              "          '<a target=\"_blank\" href=https://colab.research.google.com/notebooks/data_table.ipynb>data table notebook</a>'\n",
              "          + ' to learn more about interactive tables.';\n",
              "        element.innerHTML = '';\n",
              "        dataTable['output_type'] = 'display_data';\n",
              "        await google.colab.output.renderOutput(dataTable, element);\n",
              "        const docLink = document.createElement('div');\n",
              "        docLink.innerHTML = docLinkHtml;\n",
              "        element.appendChild(docLink);\n",
              "      }\n",
              "    </script>\n",
              "  </div>\n",
              "\n",
              "\n",
              "<div id=\"df-b5e096a7-2e77-4103-b3d3-bcc636fdd81c\">\n",
              "  <button class=\"colab-df-quickchart\" onclick=\"quickchart('df-b5e096a7-2e77-4103-b3d3-bcc636fdd81c')\"\n",
              "            title=\"Suggest charts\"\n",
              "            style=\"display:none;\">\n",
              "\n",
              "<svg xmlns=\"http://www.w3.org/2000/svg\" height=\"24px\"viewBox=\"0 0 24 24\"\n",
              "     width=\"24px\">\n",
              "    <g>\n",
              "        <path d=\"M19 3H5c-1.1 0-2 .9-2 2v14c0 1.1.9 2 2 2h14c1.1 0 2-.9 2-2V5c0-1.1-.9-2-2-2zM9 17H7v-7h2v7zm4 0h-2V7h2v10zm4 0h-2v-4h2v4z\"/>\n",
              "    </g>\n",
              "</svg>\n",
              "  </button>\n",
              "\n",
              "<style>\n",
              "  .colab-df-quickchart {\n",
              "      --bg-color: #E8F0FE;\n",
              "      --fill-color: #1967D2;\n",
              "      --hover-bg-color: #E2EBFA;\n",
              "      --hover-fill-color: #174EA6;\n",
              "      --disabled-fill-color: #AAA;\n",
              "      --disabled-bg-color: #DDD;\n",
              "  }\n",
              "\n",
              "  [theme=dark] .colab-df-quickchart {\n",
              "      --bg-color: #3B4455;\n",
              "      --fill-color: #D2E3FC;\n",
              "      --hover-bg-color: #434B5C;\n",
              "      --hover-fill-color: #FFFFFF;\n",
              "      --disabled-bg-color: #3B4455;\n",
              "      --disabled-fill-color: #666;\n",
              "  }\n",
              "\n",
              "  .colab-df-quickchart {\n",
              "    background-color: var(--bg-color);\n",
              "    border: none;\n",
              "    border-radius: 50%;\n",
              "    cursor: pointer;\n",
              "    display: none;\n",
              "    fill: var(--fill-color);\n",
              "    height: 32px;\n",
              "    padding: 0;\n",
              "    width: 32px;\n",
              "  }\n",
              "\n",
              "  .colab-df-quickchart:hover {\n",
              "    background-color: var(--hover-bg-color);\n",
              "    box-shadow: 0 1px 2px rgba(60, 64, 67, 0.3), 0 1px 3px 1px rgba(60, 64, 67, 0.15);\n",
              "    fill: var(--button-hover-fill-color);\n",
              "  }\n",
              "\n",
              "  .colab-df-quickchart-complete:disabled,\n",
              "  .colab-df-quickchart-complete:disabled:hover {\n",
              "    background-color: var(--disabled-bg-color);\n",
              "    fill: var(--disabled-fill-color);\n",
              "    box-shadow: none;\n",
              "  }\n",
              "\n",
              "  .colab-df-spinner {\n",
              "    border: 2px solid var(--fill-color);\n",
              "    border-color: transparent;\n",
              "    border-bottom-color: var(--fill-color);\n",
              "    animation:\n",
              "      spin 1s steps(1) infinite;\n",
              "  }\n",
              "\n",
              "  @keyframes spin {\n",
              "    0% {\n",
              "      border-color: transparent;\n",
              "      border-bottom-color: var(--fill-color);\n",
              "      border-left-color: var(--fill-color);\n",
              "    }\n",
              "    20% {\n",
              "      border-color: transparent;\n",
              "      border-left-color: var(--fill-color);\n",
              "      border-top-color: var(--fill-color);\n",
              "    }\n",
              "    30% {\n",
              "      border-color: transparent;\n",
              "      border-left-color: var(--fill-color);\n",
              "      border-top-color: var(--fill-color);\n",
              "      border-right-color: var(--fill-color);\n",
              "    }\n",
              "    40% {\n",
              "      border-color: transparent;\n",
              "      border-right-color: var(--fill-color);\n",
              "      border-top-color: var(--fill-color);\n",
              "    }\n",
              "    60% {\n",
              "      border-color: transparent;\n",
              "      border-right-color: var(--fill-color);\n",
              "    }\n",
              "    80% {\n",
              "      border-color: transparent;\n",
              "      border-right-color: var(--fill-color);\n",
              "      border-bottom-color: var(--fill-color);\n",
              "    }\n",
              "    90% {\n",
              "      border-color: transparent;\n",
              "      border-bottom-color: var(--fill-color);\n",
              "    }\n",
              "  }\n",
              "</style>\n",
              "\n",
              "  <script>\n",
              "    async function quickchart(key) {\n",
              "      const quickchartButtonEl =\n",
              "        document.querySelector('#' + key + ' button');\n",
              "      quickchartButtonEl.disabled = true;  // To prevent multiple clicks.\n",
              "      quickchartButtonEl.classList.add('colab-df-spinner');\n",
              "      try {\n",
              "        const charts = await google.colab.kernel.invokeFunction(\n",
              "            'suggestCharts', [key], {});\n",
              "      } catch (error) {\n",
              "        console.error('Error during call to suggestCharts:', error);\n",
              "      }\n",
              "      quickchartButtonEl.classList.remove('colab-df-spinner');\n",
              "      quickchartButtonEl.classList.add('colab-df-quickchart-complete');\n",
              "    }\n",
              "    (() => {\n",
              "      let quickchartButtonEl =\n",
              "        document.querySelector('#df-b5e096a7-2e77-4103-b3d3-bcc636fdd81c button');\n",
              "      quickchartButtonEl.style.display =\n",
              "        google.colab.kernel.accessAllowed ? 'block' : 'none';\n",
              "    })();\n",
              "  </script>\n",
              "</div>\n",
              "    </div>\n",
              "  </div>\n"
            ]
          },
          "metadata": {},
          "execution_count": 7
        }
      ]
    },
    {
      "cell_type": "code",
      "source": [
        "df.isnull().sum()"
      ],
      "metadata": {
        "id": "a1XF3TWTKp9k",
        "colab": {
          "base_uri": "https://localhost:8080/"
        },
        "outputId": "28630252-a24d-4f0b-ea10-d655d3c0e225"
      },
      "execution_count": null,
      "outputs": [
        {
          "output_type": "execute_result",
          "data": {
            "text/plain": [
              "Age            0\n",
              "Duration       0\n",
              "Frequency      0\n",
              "Location       0\n",
              "Character      0\n",
              "Intensity      0\n",
              "Nausea         0\n",
              "Vomit          0\n",
              "Phonophobia    0\n",
              "Photophobia    0\n",
              "Visual         0\n",
              "Sensory        0\n",
              "Dysphasia      0\n",
              "Dysarthria     0\n",
              "Vertigo        0\n",
              "Tinnitus       0\n",
              "Hypoacusis     0\n",
              "Diplopia       0\n",
              "Defect         0\n",
              "Ataxia         0\n",
              "Conscience     0\n",
              "Paresthesia    0\n",
              "DPF            0\n",
              "Type           0\n",
              "dtype: int64"
            ]
          },
          "metadata": {},
          "execution_count": 8
        }
      ]
    },
    {
      "cell_type": "markdown",
      "source": [
        "#2. Data Cleaning"
      ],
      "metadata": {
        "id": "rr6rztv3MxUc"
      }
    },
    {
      "cell_type": "code",
      "source": [
        "df.duplicated()"
      ],
      "metadata": {
        "colab": {
          "base_uri": "https://localhost:8080/"
        },
        "id": "VMogpgBOM2Up",
        "outputId": "a15c21d1-ad09-4307-c2f7-d23b252e8da0"
      },
      "execution_count": null,
      "outputs": [
        {
          "output_type": "execute_result",
          "data": {
            "text/plain": [
              "0      False\n",
              "1      False\n",
              "2      False\n",
              "3      False\n",
              "4      False\n",
              "       ...  \n",
              "395    False\n",
              "396    False\n",
              "397    False\n",
              "398    False\n",
              "399    False\n",
              "Length: 400, dtype: bool"
            ]
          },
          "metadata": {},
          "execution_count": 9
        }
      ]
    },
    {
      "cell_type": "code",
      "source": [
        "df.describe()"
      ],
      "metadata": {
        "colab": {
          "base_uri": "https://localhost:8080/",
          "height": 349
        },
        "id": "2NpfSyYxNLXx",
        "outputId": "a67eff42-fa16-4dc2-bb32-e28c38377e9d"
      },
      "execution_count": null,
      "outputs": [
        {
          "output_type": "execute_result",
          "data": {
            "text/plain": [
              "              Age    Duration   Frequency    Location   Character  Intensity  \\\n",
              "count  400.000000  400.000000  400.000000  400.000000  400.000000  400.00000   \n",
              "mean    31.705000    1.610000    2.365000    0.972500    0.977500    2.47000   \n",
              "std     12.139043    0.770964    1.675947    0.268186    0.277825    0.76849   \n",
              "min     15.000000    1.000000    1.000000    0.000000    0.000000    0.00000   \n",
              "25%     22.000000    1.000000    1.000000    1.000000    1.000000    2.00000   \n",
              "50%     28.000000    1.000000    2.000000    1.000000    1.000000    3.00000   \n",
              "75%     40.000000    2.000000    4.000000    1.000000    1.000000    3.00000   \n",
              "max     77.000000    3.000000    8.000000    2.000000    2.000000    3.00000   \n",
              "\n",
              "           Nausea       Vomit  Phonophobia  Photophobia  ...  Dysarthria  \\\n",
              "count  400.000000  400.000000   400.000000   400.000000  ...    400.0000   \n",
              "mean     0.987500    0.322500     0.977500     0.980000  ...      0.0025   \n",
              "std      0.111242    0.468019     0.148489     0.140175  ...      0.0500   \n",
              "min      0.000000    0.000000     0.000000     0.000000  ...      0.0000   \n",
              "25%      1.000000    0.000000     1.000000     1.000000  ...      0.0000   \n",
              "50%      1.000000    0.000000     1.000000     1.000000  ...      0.0000   \n",
              "75%      1.000000    1.000000     1.000000     1.000000  ...      0.0000   \n",
              "max      1.000000    1.000000     1.000000     1.000000  ...      1.0000   \n",
              "\n",
              "          Vertigo    Tinnitus  Hypoacusis    Diplopia      Defect  Ataxia  \\\n",
              "count  400.000000  400.000000  400.000000  400.000000  400.000000   400.0   \n",
              "mean     0.125000    0.060000    0.015000    0.005000    0.015000     0.0   \n",
              "std      0.331133    0.237784    0.121705    0.070622    0.121705     0.0   \n",
              "min      0.000000    0.000000    0.000000    0.000000    0.000000     0.0   \n",
              "25%      0.000000    0.000000    0.000000    0.000000    0.000000     0.0   \n",
              "50%      0.000000    0.000000    0.000000    0.000000    0.000000     0.0   \n",
              "75%      0.000000    0.000000    0.000000    0.000000    0.000000     0.0   \n",
              "max      1.000000    1.000000    1.000000    1.000000    1.000000     0.0   \n",
              "\n",
              "       Conscience  Paresthesia         DPF  \n",
              "count  400.000000   400.000000  400.000000  \n",
              "mean     0.017500     0.007500    0.410000  \n",
              "std      0.131289     0.086385    0.492449  \n",
              "min      0.000000     0.000000    0.000000  \n",
              "25%      0.000000     0.000000    0.000000  \n",
              "50%      0.000000     0.000000    0.000000  \n",
              "75%      0.000000     0.000000    1.000000  \n",
              "max      1.000000     1.000000    1.000000  \n",
              "\n",
              "[8 rows x 23 columns]"
            ],
            "text/html": [
              "\n",
              "  <div id=\"df-85370fc7-e7bd-40c3-b914-2e43ed7180e4\" class=\"colab-df-container\">\n",
              "    <div>\n",
              "<style scoped>\n",
              "    .dataframe tbody tr th:only-of-type {\n",
              "        vertical-align: middle;\n",
              "    }\n",
              "\n",
              "    .dataframe tbody tr th {\n",
              "        vertical-align: top;\n",
              "    }\n",
              "\n",
              "    .dataframe thead th {\n",
              "        text-align: right;\n",
              "    }\n",
              "</style>\n",
              "<table border=\"1\" class=\"dataframe\">\n",
              "  <thead>\n",
              "    <tr style=\"text-align: right;\">\n",
              "      <th></th>\n",
              "      <th>Age</th>\n",
              "      <th>Duration</th>\n",
              "      <th>Frequency</th>\n",
              "      <th>Location</th>\n",
              "      <th>Character</th>\n",
              "      <th>Intensity</th>\n",
              "      <th>Nausea</th>\n",
              "      <th>Vomit</th>\n",
              "      <th>Phonophobia</th>\n",
              "      <th>Photophobia</th>\n",
              "      <th>...</th>\n",
              "      <th>Dysarthria</th>\n",
              "      <th>Vertigo</th>\n",
              "      <th>Tinnitus</th>\n",
              "      <th>Hypoacusis</th>\n",
              "      <th>Diplopia</th>\n",
              "      <th>Defect</th>\n",
              "      <th>Ataxia</th>\n",
              "      <th>Conscience</th>\n",
              "      <th>Paresthesia</th>\n",
              "      <th>DPF</th>\n",
              "    </tr>\n",
              "  </thead>\n",
              "  <tbody>\n",
              "    <tr>\n",
              "      <th>count</th>\n",
              "      <td>400.000000</td>\n",
              "      <td>400.000000</td>\n",
              "      <td>400.000000</td>\n",
              "      <td>400.000000</td>\n",
              "      <td>400.000000</td>\n",
              "      <td>400.00000</td>\n",
              "      <td>400.000000</td>\n",
              "      <td>400.000000</td>\n",
              "      <td>400.000000</td>\n",
              "      <td>400.000000</td>\n",
              "      <td>...</td>\n",
              "      <td>400.0000</td>\n",
              "      <td>400.000000</td>\n",
              "      <td>400.000000</td>\n",
              "      <td>400.000000</td>\n",
              "      <td>400.000000</td>\n",
              "      <td>400.000000</td>\n",
              "      <td>400.0</td>\n",
              "      <td>400.000000</td>\n",
              "      <td>400.000000</td>\n",
              "      <td>400.000000</td>\n",
              "    </tr>\n",
              "    <tr>\n",
              "      <th>mean</th>\n",
              "      <td>31.705000</td>\n",
              "      <td>1.610000</td>\n",
              "      <td>2.365000</td>\n",
              "      <td>0.972500</td>\n",
              "      <td>0.977500</td>\n",
              "      <td>2.47000</td>\n",
              "      <td>0.987500</td>\n",
              "      <td>0.322500</td>\n",
              "      <td>0.977500</td>\n",
              "      <td>0.980000</td>\n",
              "      <td>...</td>\n",
              "      <td>0.0025</td>\n",
              "      <td>0.125000</td>\n",
              "      <td>0.060000</td>\n",
              "      <td>0.015000</td>\n",
              "      <td>0.005000</td>\n",
              "      <td>0.015000</td>\n",
              "      <td>0.0</td>\n",
              "      <td>0.017500</td>\n",
              "      <td>0.007500</td>\n",
              "      <td>0.410000</td>\n",
              "    </tr>\n",
              "    <tr>\n",
              "      <th>std</th>\n",
              "      <td>12.139043</td>\n",
              "      <td>0.770964</td>\n",
              "      <td>1.675947</td>\n",
              "      <td>0.268186</td>\n",
              "      <td>0.277825</td>\n",
              "      <td>0.76849</td>\n",
              "      <td>0.111242</td>\n",
              "      <td>0.468019</td>\n",
              "      <td>0.148489</td>\n",
              "      <td>0.140175</td>\n",
              "      <td>...</td>\n",
              "      <td>0.0500</td>\n",
              "      <td>0.331133</td>\n",
              "      <td>0.237784</td>\n",
              "      <td>0.121705</td>\n",
              "      <td>0.070622</td>\n",
              "      <td>0.121705</td>\n",
              "      <td>0.0</td>\n",
              "      <td>0.131289</td>\n",
              "      <td>0.086385</td>\n",
              "      <td>0.492449</td>\n",
              "    </tr>\n",
              "    <tr>\n",
              "      <th>min</th>\n",
              "      <td>15.000000</td>\n",
              "      <td>1.000000</td>\n",
              "      <td>1.000000</td>\n",
              "      <td>0.000000</td>\n",
              "      <td>0.000000</td>\n",
              "      <td>0.00000</td>\n",
              "      <td>0.000000</td>\n",
              "      <td>0.000000</td>\n",
              "      <td>0.000000</td>\n",
              "      <td>0.000000</td>\n",
              "      <td>...</td>\n",
              "      <td>0.0000</td>\n",
              "      <td>0.000000</td>\n",
              "      <td>0.000000</td>\n",
              "      <td>0.000000</td>\n",
              "      <td>0.000000</td>\n",
              "      <td>0.000000</td>\n",
              "      <td>0.0</td>\n",
              "      <td>0.000000</td>\n",
              "      <td>0.000000</td>\n",
              "      <td>0.000000</td>\n",
              "    </tr>\n",
              "    <tr>\n",
              "      <th>25%</th>\n",
              "      <td>22.000000</td>\n",
              "      <td>1.000000</td>\n",
              "      <td>1.000000</td>\n",
              "      <td>1.000000</td>\n",
              "      <td>1.000000</td>\n",
              "      <td>2.00000</td>\n",
              "      <td>1.000000</td>\n",
              "      <td>0.000000</td>\n",
              "      <td>1.000000</td>\n",
              "      <td>1.000000</td>\n",
              "      <td>...</td>\n",
              "      <td>0.0000</td>\n",
              "      <td>0.000000</td>\n",
              "      <td>0.000000</td>\n",
              "      <td>0.000000</td>\n",
              "      <td>0.000000</td>\n",
              "      <td>0.000000</td>\n",
              "      <td>0.0</td>\n",
              "      <td>0.000000</td>\n",
              "      <td>0.000000</td>\n",
              "      <td>0.000000</td>\n",
              "    </tr>\n",
              "    <tr>\n",
              "      <th>50%</th>\n",
              "      <td>28.000000</td>\n",
              "      <td>1.000000</td>\n",
              "      <td>2.000000</td>\n",
              "      <td>1.000000</td>\n",
              "      <td>1.000000</td>\n",
              "      <td>3.00000</td>\n",
              "      <td>1.000000</td>\n",
              "      <td>0.000000</td>\n",
              "      <td>1.000000</td>\n",
              "      <td>1.000000</td>\n",
              "      <td>...</td>\n",
              "      <td>0.0000</td>\n",
              "      <td>0.000000</td>\n",
              "      <td>0.000000</td>\n",
              "      <td>0.000000</td>\n",
              "      <td>0.000000</td>\n",
              "      <td>0.000000</td>\n",
              "      <td>0.0</td>\n",
              "      <td>0.000000</td>\n",
              "      <td>0.000000</td>\n",
              "      <td>0.000000</td>\n",
              "    </tr>\n",
              "    <tr>\n",
              "      <th>75%</th>\n",
              "      <td>40.000000</td>\n",
              "      <td>2.000000</td>\n",
              "      <td>4.000000</td>\n",
              "      <td>1.000000</td>\n",
              "      <td>1.000000</td>\n",
              "      <td>3.00000</td>\n",
              "      <td>1.000000</td>\n",
              "      <td>1.000000</td>\n",
              "      <td>1.000000</td>\n",
              "      <td>1.000000</td>\n",
              "      <td>...</td>\n",
              "      <td>0.0000</td>\n",
              "      <td>0.000000</td>\n",
              "      <td>0.000000</td>\n",
              "      <td>0.000000</td>\n",
              "      <td>0.000000</td>\n",
              "      <td>0.000000</td>\n",
              "      <td>0.0</td>\n",
              "      <td>0.000000</td>\n",
              "      <td>0.000000</td>\n",
              "      <td>1.000000</td>\n",
              "    </tr>\n",
              "    <tr>\n",
              "      <th>max</th>\n",
              "      <td>77.000000</td>\n",
              "      <td>3.000000</td>\n",
              "      <td>8.000000</td>\n",
              "      <td>2.000000</td>\n",
              "      <td>2.000000</td>\n",
              "      <td>3.00000</td>\n",
              "      <td>1.000000</td>\n",
              "      <td>1.000000</td>\n",
              "      <td>1.000000</td>\n",
              "      <td>1.000000</td>\n",
              "      <td>...</td>\n",
              "      <td>1.0000</td>\n",
              "      <td>1.000000</td>\n",
              "      <td>1.000000</td>\n",
              "      <td>1.000000</td>\n",
              "      <td>1.000000</td>\n",
              "      <td>1.000000</td>\n",
              "      <td>0.0</td>\n",
              "      <td>1.000000</td>\n",
              "      <td>1.000000</td>\n",
              "      <td>1.000000</td>\n",
              "    </tr>\n",
              "  </tbody>\n",
              "</table>\n",
              "<p>8 rows × 23 columns</p>\n",
              "</div>\n",
              "    <div class=\"colab-df-buttons\">\n",
              "\n",
              "  <div class=\"colab-df-container\">\n",
              "    <button class=\"colab-df-convert\" onclick=\"convertToInteractive('df-85370fc7-e7bd-40c3-b914-2e43ed7180e4')\"\n",
              "            title=\"Convert this dataframe to an interactive table.\"\n",
              "            style=\"display:none;\">\n",
              "\n",
              "  <svg xmlns=\"http://www.w3.org/2000/svg\" height=\"24px\" viewBox=\"0 -960 960 960\">\n",
              "    <path d=\"M120-120v-720h720v720H120Zm60-500h600v-160H180v160Zm220 220h160v-160H400v160Zm0 220h160v-160H400v160ZM180-400h160v-160H180v160Zm440 0h160v-160H620v160ZM180-180h160v-160H180v160Zm440 0h160v-160H620v160Z\"/>\n",
              "  </svg>\n",
              "    </button>\n",
              "\n",
              "  <style>\n",
              "    .colab-df-container {\n",
              "      display:flex;\n",
              "      gap: 12px;\n",
              "    }\n",
              "\n",
              "    .colab-df-convert {\n",
              "      background-color: #E8F0FE;\n",
              "      border: none;\n",
              "      border-radius: 50%;\n",
              "      cursor: pointer;\n",
              "      display: none;\n",
              "      fill: #1967D2;\n",
              "      height: 32px;\n",
              "      padding: 0 0 0 0;\n",
              "      width: 32px;\n",
              "    }\n",
              "\n",
              "    .colab-df-convert:hover {\n",
              "      background-color: #E2EBFA;\n",
              "      box-shadow: 0px 1px 2px rgba(60, 64, 67, 0.3), 0px 1px 3px 1px rgba(60, 64, 67, 0.15);\n",
              "      fill: #174EA6;\n",
              "    }\n",
              "\n",
              "    .colab-df-buttons div {\n",
              "      margin-bottom: 4px;\n",
              "    }\n",
              "\n",
              "    [theme=dark] .colab-df-convert {\n",
              "      background-color: #3B4455;\n",
              "      fill: #D2E3FC;\n",
              "    }\n",
              "\n",
              "    [theme=dark] .colab-df-convert:hover {\n",
              "      background-color: #434B5C;\n",
              "      box-shadow: 0px 1px 3px 1px rgba(0, 0, 0, 0.15);\n",
              "      filter: drop-shadow(0px 1px 2px rgba(0, 0, 0, 0.3));\n",
              "      fill: #FFFFFF;\n",
              "    }\n",
              "  </style>\n",
              "\n",
              "    <script>\n",
              "      const buttonEl =\n",
              "        document.querySelector('#df-85370fc7-e7bd-40c3-b914-2e43ed7180e4 button.colab-df-convert');\n",
              "      buttonEl.style.display =\n",
              "        google.colab.kernel.accessAllowed ? 'block' : 'none';\n",
              "\n",
              "      async function convertToInteractive(key) {\n",
              "        const element = document.querySelector('#df-85370fc7-e7bd-40c3-b914-2e43ed7180e4');\n",
              "        const dataTable =\n",
              "          await google.colab.kernel.invokeFunction('convertToInteractive',\n",
              "                                                    [key], {});\n",
              "        if (!dataTable) return;\n",
              "\n",
              "        const docLinkHtml = 'Like what you see? Visit the ' +\n",
              "          '<a target=\"_blank\" href=https://colab.research.google.com/notebooks/data_table.ipynb>data table notebook</a>'\n",
              "          + ' to learn more about interactive tables.';\n",
              "        element.innerHTML = '';\n",
              "        dataTable['output_type'] = 'display_data';\n",
              "        await google.colab.output.renderOutput(dataTable, element);\n",
              "        const docLink = document.createElement('div');\n",
              "        docLink.innerHTML = docLinkHtml;\n",
              "        element.appendChild(docLink);\n",
              "      }\n",
              "    </script>\n",
              "  </div>\n",
              "\n",
              "\n",
              "<div id=\"df-440c0595-c499-4db0-bac8-98076828fb8d\">\n",
              "  <button class=\"colab-df-quickchart\" onclick=\"quickchart('df-440c0595-c499-4db0-bac8-98076828fb8d')\"\n",
              "            title=\"Suggest charts\"\n",
              "            style=\"display:none;\">\n",
              "\n",
              "<svg xmlns=\"http://www.w3.org/2000/svg\" height=\"24px\"viewBox=\"0 0 24 24\"\n",
              "     width=\"24px\">\n",
              "    <g>\n",
              "        <path d=\"M19 3H5c-1.1 0-2 .9-2 2v14c0 1.1.9 2 2 2h14c1.1 0 2-.9 2-2V5c0-1.1-.9-2-2-2zM9 17H7v-7h2v7zm4 0h-2V7h2v10zm4 0h-2v-4h2v4z\"/>\n",
              "    </g>\n",
              "</svg>\n",
              "  </button>\n",
              "\n",
              "<style>\n",
              "  .colab-df-quickchart {\n",
              "      --bg-color: #E8F0FE;\n",
              "      --fill-color: #1967D2;\n",
              "      --hover-bg-color: #E2EBFA;\n",
              "      --hover-fill-color: #174EA6;\n",
              "      --disabled-fill-color: #AAA;\n",
              "      --disabled-bg-color: #DDD;\n",
              "  }\n",
              "\n",
              "  [theme=dark] .colab-df-quickchart {\n",
              "      --bg-color: #3B4455;\n",
              "      --fill-color: #D2E3FC;\n",
              "      --hover-bg-color: #434B5C;\n",
              "      --hover-fill-color: #FFFFFF;\n",
              "      --disabled-bg-color: #3B4455;\n",
              "      --disabled-fill-color: #666;\n",
              "  }\n",
              "\n",
              "  .colab-df-quickchart {\n",
              "    background-color: var(--bg-color);\n",
              "    border: none;\n",
              "    border-radius: 50%;\n",
              "    cursor: pointer;\n",
              "    display: none;\n",
              "    fill: var(--fill-color);\n",
              "    height: 32px;\n",
              "    padding: 0;\n",
              "    width: 32px;\n",
              "  }\n",
              "\n",
              "  .colab-df-quickchart:hover {\n",
              "    background-color: var(--hover-bg-color);\n",
              "    box-shadow: 0 1px 2px rgba(60, 64, 67, 0.3), 0 1px 3px 1px rgba(60, 64, 67, 0.15);\n",
              "    fill: var(--button-hover-fill-color);\n",
              "  }\n",
              "\n",
              "  .colab-df-quickchart-complete:disabled,\n",
              "  .colab-df-quickchart-complete:disabled:hover {\n",
              "    background-color: var(--disabled-bg-color);\n",
              "    fill: var(--disabled-fill-color);\n",
              "    box-shadow: none;\n",
              "  }\n",
              "\n",
              "  .colab-df-spinner {\n",
              "    border: 2px solid var(--fill-color);\n",
              "    border-color: transparent;\n",
              "    border-bottom-color: var(--fill-color);\n",
              "    animation:\n",
              "      spin 1s steps(1) infinite;\n",
              "  }\n",
              "\n",
              "  @keyframes spin {\n",
              "    0% {\n",
              "      border-color: transparent;\n",
              "      border-bottom-color: var(--fill-color);\n",
              "      border-left-color: var(--fill-color);\n",
              "    }\n",
              "    20% {\n",
              "      border-color: transparent;\n",
              "      border-left-color: var(--fill-color);\n",
              "      border-top-color: var(--fill-color);\n",
              "    }\n",
              "    30% {\n",
              "      border-color: transparent;\n",
              "      border-left-color: var(--fill-color);\n",
              "      border-top-color: var(--fill-color);\n",
              "      border-right-color: var(--fill-color);\n",
              "    }\n",
              "    40% {\n",
              "      border-color: transparent;\n",
              "      border-right-color: var(--fill-color);\n",
              "      border-top-color: var(--fill-color);\n",
              "    }\n",
              "    60% {\n",
              "      border-color: transparent;\n",
              "      border-right-color: var(--fill-color);\n",
              "    }\n",
              "    80% {\n",
              "      border-color: transparent;\n",
              "      border-right-color: var(--fill-color);\n",
              "      border-bottom-color: var(--fill-color);\n",
              "    }\n",
              "    90% {\n",
              "      border-color: transparent;\n",
              "      border-bottom-color: var(--fill-color);\n",
              "    }\n",
              "  }\n",
              "</style>\n",
              "\n",
              "  <script>\n",
              "    async function quickchart(key) {\n",
              "      const quickchartButtonEl =\n",
              "        document.querySelector('#' + key + ' button');\n",
              "      quickchartButtonEl.disabled = true;  // To prevent multiple clicks.\n",
              "      quickchartButtonEl.classList.add('colab-df-spinner');\n",
              "      try {\n",
              "        const charts = await google.colab.kernel.invokeFunction(\n",
              "            'suggestCharts', [key], {});\n",
              "      } catch (error) {\n",
              "        console.error('Error during call to suggestCharts:', error);\n",
              "      }\n",
              "      quickchartButtonEl.classList.remove('colab-df-spinner');\n",
              "      quickchartButtonEl.classList.add('colab-df-quickchart-complete');\n",
              "    }\n",
              "    (() => {\n",
              "      let quickchartButtonEl =\n",
              "        document.querySelector('#df-440c0595-c499-4db0-bac8-98076828fb8d button');\n",
              "      quickchartButtonEl.style.display =\n",
              "        google.colab.kernel.accessAllowed ? 'block' : 'none';\n",
              "    })();\n",
              "  </script>\n",
              "</div>\n",
              "    </div>\n",
              "  </div>\n"
            ]
          },
          "metadata": {},
          "execution_count": 10
        }
      ]
    },
    {
      "cell_type": "code",
      "source": [
        "# Categorical columns\n",
        "cat_col = [col for col in df.columns if df[col].dtype == 'object']\n",
        "print('Categorical columns :',cat_col)\n",
        "# Numerical columns\n",
        "num_col = [col for col in df.columns if df[col].dtype != 'object']\n",
        "print('Numerical columns :',num_col)"
      ],
      "metadata": {
        "id": "gUtqsDtqNRb9",
        "colab": {
          "base_uri": "https://localhost:8080/"
        },
        "outputId": "f98e2a85-97f5-4a54-ba06-3033e3e2a928"
      },
      "execution_count": null,
      "outputs": [
        {
          "output_type": "stream",
          "name": "stdout",
          "text": [
            "Categorical columns : ['Type']\n",
            "Numerical columns : ['Age', 'Duration', 'Frequency', 'Location', 'Character', 'Intensity', 'Nausea', 'Vomit', 'Phonophobia', 'Photophobia', 'Visual', 'Sensory', 'Dysphasia', 'Dysarthria', 'Vertigo', 'Tinnitus', 'Hypoacusis', 'Diplopia', 'Defect', 'Ataxia', 'Conscience', 'Paresthesia', 'DPF']\n"
          ]
        }
      ]
    },
    {
      "cell_type": "code",
      "source": [
        "df[cat_col].nunique()"
      ],
      "metadata": {
        "id": "rXIdZrS7Nemb",
        "colab": {
          "base_uri": "https://localhost:8080/"
        },
        "outputId": "aae14e16-3097-471c-c046-0fec7aa068b6"
      },
      "execution_count": null,
      "outputs": [
        {
          "output_type": "execute_result",
          "data": {
            "text/plain": [
              "Type    7\n",
              "dtype: int64"
            ]
          },
          "metadata": {},
          "execution_count": 12
        }
      ]
    },
    {
      "cell_type": "code",
      "source": [
        "df.info()"
      ],
      "metadata": {
        "id": "McR7z0tBNei9",
        "colab": {
          "base_uri": "https://localhost:8080/"
        },
        "outputId": "36005892-99be-4209-f284-51e37cedbf5e"
      },
      "execution_count": null,
      "outputs": [
        {
          "output_type": "stream",
          "name": "stdout",
          "text": [
            "<class 'pandas.core.frame.DataFrame'>\n",
            "RangeIndex: 400 entries, 0 to 399\n",
            "Data columns (total 24 columns):\n",
            " #   Column       Non-Null Count  Dtype \n",
            "---  ------       --------------  ----- \n",
            " 0   Age          400 non-null    int64 \n",
            " 1   Duration     400 non-null    int64 \n",
            " 2   Frequency    400 non-null    int64 \n",
            " 3   Location     400 non-null    int64 \n",
            " 4   Character    400 non-null    int64 \n",
            " 5   Intensity    400 non-null    int64 \n",
            " 6   Nausea       400 non-null    int64 \n",
            " 7   Vomit        400 non-null    int64 \n",
            " 8   Phonophobia  400 non-null    int64 \n",
            " 9   Photophobia  400 non-null    int64 \n",
            " 10  Visual       400 non-null    int64 \n",
            " 11  Sensory      400 non-null    int64 \n",
            " 12  Dysphasia    400 non-null    int64 \n",
            " 13  Dysarthria   400 non-null    int64 \n",
            " 14  Vertigo      400 non-null    int64 \n",
            " 15  Tinnitus     400 non-null    int64 \n",
            " 16  Hypoacusis   400 non-null    int64 \n",
            " 17  Diplopia     400 non-null    int64 \n",
            " 18  Defect       400 non-null    int64 \n",
            " 19  Ataxia       400 non-null    int64 \n",
            " 20  Conscience   400 non-null    int64 \n",
            " 21  Paresthesia  400 non-null    int64 \n",
            " 22  DPF          400 non-null    int64 \n",
            " 23  Type         400 non-null    object\n",
            "dtypes: int64(23), object(1)\n",
            "memory usage: 75.1+ KB\n"
          ]
        }
      ]
    },
    {
      "cell_type": "code",
      "source": [
        "import matplotlib.pyplot as plt\n",
        "df.plot(kind='box', subplots=True, layout=(8,8), figsize=(29,30))\n",
        "plt.show()"
      ],
      "metadata": {
        "id": "yX4lf4tSNegw",
        "colab": {
          "base_uri": "https://localhost:8080/",
          "height": 445
        },
        "outputId": "40f496d8-cc92-4e8d-9751-cbb306822bc9"
      },
      "execution_count": null,
      "outputs": [
        {
          "output_type": "display_data",
          "data": {
            "text/plain": [
              "<Figure size 2900x3000 with 64 Axes>"
            ],
            "image/png": "[encoded data removed]"
          },
          "metadata": {}
        }
      ]
    },
    {
      "cell_type": "markdown",
      "source": [
        "Yang memiliki outlier ( lingkaran kecil diluar box)\n",
        "\n",
        "*   Age\n",
        "*   Location\n",
        "*   Character\n",
        "*   Intensity\n",
        "*   Nausea\n",
        "*   Phonophobia\n",
        "*   Photophobia\n",
        "*   Visual\n",
        "*   Sensory\n",
        "*   Dysphasia\n",
        "*   Dysarthria\n",
        "*   Vertigo\n",
        "*   Tinnitus\n",
        "*   Hypoacusis\n",
        "*   Diplopia\n",
        "*   Defect\n",
        "*   Conscience\n",
        "*   Paresthesia\n",
        "\n",
        "\n",
        "\n",
        "\n",
        "\n",
        "\n",
        "\n",
        "\n",
        "\n",
        "\n",
        "\n",
        "\n",
        "\n",
        "\n",
        "\n",
        "\n",
        "\n",
        "\n"
      ],
      "metadata": {
        "id": "ka-HrxBIiqB8"
      }
    },
    {
      "cell_type": "code",
      "source": [
        "df1 = df\n",
        "df2 = df"
      ],
      "metadata": {
        "id": "e15pqkjKPCq-"
      },
      "execution_count": null,
      "outputs": []
    },
    {
      "cell_type": "code",
      "source": [
        "\n",
        "# calculate summary statistics\n",
        "mean = df['Age'].mean()\n",
        "std  = df['Age'].std()\n",
        "\n",
        "# Calculate the lower and upper bounds\n",
        "lower_bound = mean - std*2\n",
        "upper_bound = mean + std*2\n",
        "\n",
        "print('Lower Bound :',lower_bound)\n",
        "print('Upper Bound :',upper_bound)\n",
        "\n",
        "# Drop the outliers\n",
        "df2 = df1[(df1['Age'] >= lower_bound)\n",
        "                & (df1['Age'] <= upper_bound)]"
      ],
      "metadata": {
        "id": "rJ9dyH4C9Igh",
        "outputId": "7d2a4778-d131-4b9e-da6a-51f3a110ade5",
        "colab": {
          "base_uri": "https://localhost:8080/"
        }
      },
      "execution_count": null,
      "outputs": [
        {
          "output_type": "stream",
          "name": "stdout",
          "text": [
            "Lower Bound : 7.426913921003823\n",
            "Upper Bound : 55.98308607899617\n"
          ]
        }
      ]
    },
    {
      "cell_type": "code",
      "source": [
        "\n",
        "# calculate summary statistics\n",
        "mean = df['Location'].mean()\n",
        "std  = df['Location'].std()\n",
        "\n",
        "# Calculate the lower and upper bounds\n",
        "lower_bound = mean - std*2\n",
        "upper_bound = mean + std*2\n",
        "\n",
        "print('Lower Bound :',lower_bound)\n",
        "print('Upper Bound :',upper_bound)\n",
        "\n",
        "# Drop the outliers\n",
        "df2 = df1[(df1['Location'] >= lower_bound)\n",
        "                & (df1['Location'] <= upper_bound)]"
      ],
      "metadata": {
        "id": "38gcUmmhCUgI",
        "colab": {
          "base_uri": "https://localhost:8080/"
        },
        "outputId": "78e73671-9b29-428c-9e7c-2d9ea7c0c0d1"
      },
      "execution_count": null,
      "outputs": [
        {
          "output_type": "stream",
          "name": "stdout",
          "text": [
            "Lower Bound : 0.43612864022305176\n",
            "Upper Bound : 1.5088713597769483\n"
          ]
        }
      ]
    },
    {
      "cell_type": "code",
      "source": [
        "\n",
        "# calculate summary statistics\n",
        "mean = df['Character'].mean()\n",
        "std  = df['Character'].std()\n",
        "\n",
        "# Calculate the lower and upper bounds\n",
        "lower_bound = mean - std*2\n",
        "upper_bound = mean + std*2\n",
        "\n",
        "print('Lower Bound :',lower_bound)\n",
        "print('Upper Bound :',upper_bound)\n",
        "\n",
        "# Drop the outliers\n",
        "df2 = df1[(df1['Character'] >= lower_bound)\n",
        "                & (df1['Character'] <= upper_bound)]"
      ],
      "metadata": {
        "id": "XvEm6D4jEPnX",
        "colab": {
          "base_uri": "https://localhost:8080/"
        },
        "outputId": "db4150d3-3e40-4bf4-cb17-f28026f46dd3"
      },
      "execution_count": null,
      "outputs": [
        {
          "output_type": "stream",
          "name": "stdout",
          "text": [
            "Lower Bound : 0.4218500497904101\n",
            "Upper Bound : 1.53314995020959\n"
          ]
        }
      ]
    },
    {
      "cell_type": "code",
      "source": [
        "\n",
        "# calculate summary statistics\n",
        "mean = df['Intensity'].mean()\n",
        "std  = df['Intensity'].std()\n",
        "\n",
        "# Calculate the lower and upper bounds\n",
        "lower_bound = mean - std*2\n",
        "upper_bound = mean + std*2\n",
        "\n",
        "print('Lower Bound :',lower_bound)\n",
        "print('Upper Bound :',upper_bound)\n",
        "\n",
        "# Drop the outliers\n",
        "df2 = df1[(df1['Intensity'] >= lower_bound)\n",
        "                & (df1['Intensity'] <= upper_bound)]"
      ],
      "metadata": {
        "id": "buUX3X55EPqy",
        "colab": {
          "base_uri": "https://localhost:8080/"
        },
        "outputId": "db77af97-993c-4ebe-e670-b695e31bda8b"
      },
      "execution_count": null,
      "outputs": [
        {
          "output_type": "stream",
          "name": "stdout",
          "text": [
            "Lower Bound : 0.9330205712466326\n",
            "Upper Bound : 4.006979428753368\n"
          ]
        }
      ]
    },
    {
      "cell_type": "code",
      "source": [
        "\n",
        "# calculate summary statistics\n",
        "mean = df['Nausea'].mean()\n",
        "std  = df['Nausea'].std()\n",
        "\n",
        "# Calculate the lower and upper bounds\n",
        "lower_bound = mean - std*2\n",
        "upper_bound = mean + std*2\n",
        "\n",
        "print('Lower Bound :',lower_bound)\n",
        "print('Upper Bound :',upper_bound)\n",
        "\n",
        "# Drop the outliers\n",
        "df2 = df1[(df1['Nausea'] >= lower_bound)\n",
        "                & (df1['Nausea'] <= upper_bound)]"
      ],
      "metadata": {
        "id": "6gA_4Yj7EPgg",
        "colab": {
          "base_uri": "https://localhost:8080/"
        },
        "outputId": "c993e1e2-b405-4140-a3fb-48ac303bf767"
      },
      "execution_count": null,
      "outputs": [
        {
          "output_type": "stream",
          "name": "stdout",
          "text": [
            "Lower Bound : 0.7650168616115641\n",
            "Upper Bound : 1.2099831383884359\n"
          ]
        }
      ]
    },
    {
      "cell_type": "code",
      "source": [
        "\n",
        "# calculate summary statistics\n",
        "mean = df['Phonophobia'].mean()\n",
        "std  = df['Phonophobia'].std()\n",
        "\n",
        "# Calculate the lower and upper bounds\n",
        "lower_bound = mean - std*2\n",
        "upper_bound = mean + std*2\n",
        "\n",
        "print('Lower Bound :',lower_bound)\n",
        "print('Upper Bound :',upper_bound)\n",
        "\n",
        "# Drop the outliers\n",
        "df2 = df1[(df1['Phonophobia'] >= lower_bound)\n",
        "                & (df1['Phonophobia'] <= upper_bound)]"
      ],
      "metadata": {
        "id": "6HXMsfWtEPdI",
        "colab": {
          "base_uri": "https://localhost:8080/"
        },
        "outputId": "10ab7e82-ad51-4137-aaef-ec060fd0393d"
      },
      "execution_count": null,
      "outputs": [
        {
          "output_type": "stream",
          "name": "stdout",
          "text": [
            "Lower Bound : 0.680522747130686\n",
            "Upper Bound : 1.274477252869314\n"
          ]
        }
      ]
    },
    {
      "cell_type": "code",
      "source": [
        "\n",
        "# calculate summary statistics\n",
        "mean = df['Photophobia'].mean()\n",
        "std  = df['Photophobia'].std()\n",
        "\n",
        "# Calculate the lower and upper bounds\n",
        "lower_bound = mean - std*2\n",
        "upper_bound = mean + std*2\n",
        "\n",
        "print('Lower Bound :',lower_bound)\n",
        "print('Upper Bound :',upper_bound)\n",
        "\n",
        "# Drop the outliers\n",
        "df2 = df1[(df1['Photophobia'] >= lower_bound)\n",
        "                & (df1['Photophobia'] <= upper_bound)]"
      ],
      "metadata": {
        "id": "2lwXQsUZEPa7",
        "colab": {
          "base_uri": "https://localhost:8080/"
        },
        "outputId": "7377ccb1-b9cf-45a3-8831-53af94470502"
      },
      "execution_count": null,
      "outputs": [
        {
          "output_type": "stream",
          "name": "stdout",
          "text": [
            "Lower Bound : 0.6996493423798151\n",
            "Upper Bound : 1.2603506576201848\n"
          ]
        }
      ]
    },
    {
      "cell_type": "code",
      "source": [
        "\n",
        "# calculate summary statistics\n",
        "mean = df['Visual'].mean()\n",
        "std  = df['Visual'].std()\n",
        "\n",
        "# Calculate the lower and upper bounds\n",
        "lower_bound = mean - std*2\n",
        "upper_bound = mean + std*2\n",
        "\n",
        "print('Lower Bound :',lower_bound)\n",
        "print('Upper Bound :',upper_bound)\n",
        "\n",
        "# Drop the outliers\n",
        "df2 = df1[(df1['Visual'] >= lower_bound)\n",
        "                & (df1['Visual'] <= upper_bound)]"
      ],
      "metadata": {
        "id": "gCFuCN4tEPYw",
        "colab": {
          "base_uri": "https://localhost:8080/"
        },
        "outputId": "c498aa3c-de36-4825-f7a8-25dd4b44e58e"
      },
      "execution_count": null,
      "outputs": [
        {
          "output_type": "stream",
          "name": "stdout",
          "text": [
            "Lower Bound : -0.4947204708325128\n",
            "Upper Bound : 3.469720470832513\n"
          ]
        }
      ]
    },
    {
      "cell_type": "code",
      "source": [
        "\n",
        "# calculate summary statistics\n",
        "mean = df['Sensory'].mean()\n",
        "std  = df['Sensory'].std()\n",
        "\n",
        "# Calculate the lower and upper bounds\n",
        "lower_bound = mean - std*2\n",
        "upper_bound = mean + std*2\n",
        "\n",
        "print('Lower Bound :',lower_bound)\n",
        "print('Upper Bound :',upper_bound)\n",
        "\n",
        "# Drop the outliers\n",
        "df2 = df1[(df1['Sensory'] >= lower_bound)\n",
        "                & (df1['Sensory'] <= upper_bound)]"
      ],
      "metadata": {
        "id": "un7aEoQSEPWe",
        "colab": {
          "base_uri": "https://localhost:8080/"
        },
        "outputId": "a0aa58ba-6a0b-4b46-e72d-6e53382958ec"
      },
      "execution_count": null,
      "outputs": [
        {
          "output_type": "stream",
          "name": "stdout",
          "text": [
            "Lower Bound : -0.9172107179938087\n",
            "Upper Bound : 1.5222107179938087\n"
          ]
        }
      ]
    },
    {
      "cell_type": "code",
      "source": [
        "\n",
        "# calculate summary statistics\n",
        "mean = df['Dysphasia'].mean()\n",
        "std  = df['Dysphasia'].std()\n",
        "\n",
        "# Calculate the lower and upper bounds\n",
        "lower_bound = mean - std*2\n",
        "upper_bound = mean + std*2\n",
        "\n",
        "print('Lower Bound :',lower_bound)\n",
        "print('Upper Bound :',upper_bound)\n",
        "\n",
        "# Drop the outliers\n",
        "df2 = df1[(df1['Dysphasia'] >= lower_bound)\n",
        "                & (df1['Dysphasia'] <= upper_bound)]"
      ],
      "metadata": {
        "id": "HSzElSkvEOvv",
        "colab": {
          "base_uri": "https://localhost:8080/"
        },
        "outputId": "48fb1ef1-b973-4aa9-a837-7678a95bf4d7"
      },
      "execution_count": null,
      "outputs": [
        {
          "output_type": "stream",
          "name": "stdout",
          "text": [
            "Lower Bound : -0.34294295512634115\n",
            "Upper Bound : 0.4179429551263411\n"
          ]
        }
      ]
    },
    {
      "cell_type": "code",
      "source": [
        "\n",
        "# calculate summary statistics\n",
        "mean = df['Dysarthria'].mean()\n",
        "std  = df['Dysarthria'].std()\n",
        "\n",
        "# Calculate the lower and upper bounds\n",
        "lower_bound = mean - std*2\n",
        "upper_bound = mean + std*2\n",
        "\n",
        "print('Lower Bound :',lower_bound)\n",
        "print('Upper Bound :',upper_bound)\n",
        "\n",
        "# Drop the outliers\n",
        "df2 = df1[(df1['Dysarthria'] >= lower_bound)\n",
        "                & (df1['Dysarthria'] <= upper_bound)]"
      ],
      "metadata": {
        "id": "rcrMFFgWFtNm",
        "colab": {
          "base_uri": "https://localhost:8080/"
        },
        "outputId": "4feb387e-5d06-4b51-a429-28bee58c476c"
      },
      "execution_count": null,
      "outputs": [
        {
          "output_type": "stream",
          "name": "stdout",
          "text": [
            "Lower Bound : -0.0975\n",
            "Upper Bound : 0.10250000000000001\n"
          ]
        }
      ]
    },
    {
      "cell_type": "code",
      "source": [
        "\n",
        "# calculate summary statistics\n",
        "mean = df['Vertigo'].mean()\n",
        "std  = df['Vertigo'].std()\n",
        "\n",
        "# Calculate the lower and upper bounds\n",
        "lower_bound = mean - std*2\n",
        "upper_bound = mean + std*2\n",
        "\n",
        "print('Lower Bound :',lower_bound)\n",
        "print('Upper Bound :',upper_bound)\n",
        "\n",
        "# Drop the outliers\n",
        "df2 = df1[(df1['Vertigo'] >= lower_bound)\n",
        "                & (df1['Vertigo'] <= upper_bound)]"
      ],
      "metadata": {
        "id": "gOVveNW9FtKF",
        "colab": {
          "base_uri": "https://localhost:8080/"
        },
        "outputId": "09d23e9a-4e63-49f6-fe2d-9a5e2da5749d"
      },
      "execution_count": null,
      "outputs": [
        {
          "output_type": "stream",
          "name": "stdout",
          "text": [
            "Lower Bound : -0.5372661785325219\n",
            "Upper Bound : 0.7872661785325219\n"
          ]
        }
      ]
    },
    {
      "cell_type": "code",
      "source": [
        "\n",
        "# calculate summary statistics\n",
        "mean = df['Tinnitus'].mean()\n",
        "std  = df['Tinnitus'].std()\n",
        "\n",
        "# Calculate the lower and upper bounds\n",
        "lower_bound = mean - std*2\n",
        "upper_bound = mean + std*2\n",
        "\n",
        "print('Lower Bound :',lower_bound)\n",
        "print('Upper Bound :',upper_bound)\n",
        "\n",
        "# Drop the outliers\n",
        "df2 = df1[(df1['Tinnitus'] >= lower_bound)\n",
        "                & (df1['Tinnitus'] <= upper_bound)]"
      ],
      "metadata": {
        "id": "uSCd2HDuFtHr",
        "colab": {
          "base_uri": "https://localhost:8080/"
        },
        "outputId": "f5a7be37-42ee-4616-9819-00950c9cc738"
      },
      "execution_count": null,
      "outputs": [
        {
          "output_type": "stream",
          "name": "stdout",
          "text": [
            "Lower Bound : -0.4155685161297314\n",
            "Upper Bound : 0.5355685161297314\n"
          ]
        }
      ]
    },
    {
      "cell_type": "code",
      "source": [
        "\n",
        "# calculate summary statistics\n",
        "mean = df['Hypoacusis'].mean()\n",
        "std  = df['Hypoacusis'].std()\n",
        "\n",
        "# Calculate the lower and upper bounds\n",
        "lower_bound = mean - std*2\n",
        "upper_bound = mean + std*2\n",
        "\n",
        "print('Lower Bound :',lower_bound)\n",
        "print('Upper Bound :',upper_bound)\n",
        "\n",
        "# Drop the outliers\n",
        "df2 = df1[(df1['Hypoacusis'] >= lower_bound)\n",
        "                & (df1['Hypoacusis'] <= upper_bound)]"
      ],
      "metadata": {
        "id": "SDwQdMwOFtFo",
        "colab": {
          "base_uri": "https://localhost:8080/"
        },
        "outputId": "2837c53e-e620-47ed-963f-336efd5f25ec"
      },
      "execution_count": null,
      "outputs": [
        {
          "output_type": "stream",
          "name": "stdout",
          "text": [
            "Lower Bound : -0.22840936773417714\n",
            "Upper Bound : 0.25840936773417716\n"
          ]
        }
      ]
    },
    {
      "cell_type": "code",
      "source": [
        "\n",
        "# calculate summary statistics\n",
        "mean = df['Diplopia'].mean()\n",
        "std  = df['Diplopia'].std()\n",
        "\n",
        "# Calculate the lower and upper bounds\n",
        "lower_bound = mean - std*2\n",
        "upper_bound = mean + std*2\n",
        "\n",
        "print('Lower Bound :',lower_bound)\n",
        "print('Upper Bound :',upper_bound)\n",
        "\n",
        "# Drop the outliers\n",
        "df2 = df1[(df1['Diplopia'] >= lower_bound)\n",
        "                & (df1['Diplopia'] <= upper_bound)]"
      ],
      "metadata": {
        "id": "RBfZ7oNdFtDd",
        "colab": {
          "base_uri": "https://localhost:8080/"
        },
        "outputId": "be4ed14e-340e-4d82-b11a-0a991f03f037"
      },
      "execution_count": null,
      "outputs": [
        {
          "output_type": "stream",
          "name": "stdout",
          "text": [
            "Lower Bound : -0.1362440253133448\n",
            "Upper Bound : 0.14624402531334482\n"
          ]
        }
      ]
    },
    {
      "cell_type": "code",
      "source": [
        "\n",
        "# calculate summary statistics\n",
        "mean = df['Defect'].mean()\n",
        "std  = df['Defect'].std()\n",
        "\n",
        "# Calculate the lower and upper bounds\n",
        "lower_bound = mean - std*2\n",
        "upper_bound = mean + std*2\n",
        "\n",
        "print('Lower Bound :',lower_bound)\n",
        "print('Upper Bound :',upper_bound)\n",
        "\n",
        "# Drop the outliers\n",
        "df2 = df1[(df1['Defect'] >= lower_bound)\n",
        "                & (df1['Defect'] <= upper_bound)]"
      ],
      "metadata": {
        "id": "0whodhunFtBQ",
        "colab": {
          "base_uri": "https://localhost:8080/"
        },
        "outputId": "e21088a5-3897-4fc7-e744-9e426c7f4b54"
      },
      "execution_count": null,
      "outputs": [
        {
          "output_type": "stream",
          "name": "stdout",
          "text": [
            "Lower Bound : -0.22840936773417714\n",
            "Upper Bound : 0.25840936773417716\n"
          ]
        }
      ]
    },
    {
      "cell_type": "code",
      "source": [
        "\n",
        "# calculate summary statistics\n",
        "mean = df['Conscience'].mean()\n",
        "std  = df['Conscience'].std()\n",
        "\n",
        "# Calculate the lower and upper bounds\n",
        "lower_bound = mean - std*2\n",
        "upper_bound = mean + std*2\n",
        "\n",
        "print('Lower Bound :',lower_bound)\n",
        "print('Upper Bound :',upper_bound)\n",
        "\n",
        "# Drop the outliers\n",
        "df2 = df1[(df1['Conscience'] >= lower_bound)\n",
        "                & (df1['Conscience'] <= upper_bound)]"
      ],
      "metadata": {
        "id": "mdWSVLMPFs-9",
        "colab": {
          "base_uri": "https://localhost:8080/"
        },
        "outputId": "563b3c9b-c4a8-4a39-b2c9-02fc7ac3c79b"
      },
      "execution_count": null,
      "outputs": [
        {
          "output_type": "stream",
          "name": "stdout",
          "text": [
            "Lower Bound : -0.24507830912139833\n",
            "Upper Bound : 0.28007830912139836\n"
          ]
        }
      ]
    },
    {
      "cell_type": "code",
      "source": [
        "\n",
        "# calculate summary statistics\n",
        "mean = df['Paresthesia'].mean()\n",
        "std  = df['Paresthesia'].std()\n",
        "\n",
        "# Calculate the lower and upper bounds\n",
        "lower_bound = mean - std*2\n",
        "upper_bound = mean + std*2\n",
        "\n",
        "print('Lower Bound :',lower_bound)\n",
        "print('Upper Bound :',upper_bound)\n",
        "\n",
        "# Drop the outliers\n",
        "df2 = df1[(df1['Paresthesia'] >= lower_bound)\n",
        "                & (df1['Paresthesia'] <= upper_bound)]"
      ],
      "metadata": {
        "id": "2tRu4E3-Fs8t",
        "colab": {
          "base_uri": "https://localhost:8080/"
        },
        "outputId": "1b260824-7751-48b7-9421-424d62246ffe"
      },
      "execution_count": null,
      "outputs": [
        {
          "output_type": "stream",
          "name": "stdout",
          "text": [
            "Lower Bound : -0.16527043746008857\n",
            "Upper Bound : 0.18027043746008858\n"
          ]
        }
      ]
    },
    {
      "cell_type": "code",
      "source": [
        "import matplotlib.pyplot as plt\n",
        "df2.plot(kind='box', subplots=True, layout=(8,8), figsize=(29,30))\n",
        "plt.show()"
      ],
      "metadata": {
        "id": "trr9qUueHch2",
        "colab": {
          "base_uri": "https://localhost:8080/",
          "height": 445
        },
        "outputId": "e93b5f1e-7bcb-4a22-c455-0ef8feae3d1c"
      },
      "execution_count": null,
      "outputs": [
        {
          "output_type": "display_data",
          "data": {
            "text/plain": [
              "<Figure size 2900x3000 with 64 Axes>"
            ],
            "image/png": "[encoded data removed]"
          },
          "metadata": {}
        }
      ]
    },
    {
      "cell_type": "markdown",
      "source": [
        "# 3. Data sampling"
      ],
      "metadata": {
        "id": "-dviNSujNLs9"
      }
    },
    {
      "cell_type": "code",
      "source": [
        "df2.groupby('Type').size()"
      ],
      "metadata": {
        "id": "xIPwjJ_5RS_C",
        "colab": {
          "base_uri": "https://localhost:8080/"
        },
        "outputId": "6943baf4-44ce-4d61-84ce-0bfa3221602f"
      },
      "execution_count": null,
      "outputs": [
        {
          "output_type": "execute_result",
          "data": {
            "text/plain": [
              "Type\n",
              "Basilar-type aura                 15\n",
              "Familial hemiplegic migraine      24\n",
              "Migraine without aura             60\n",
              "Other                             17\n",
              "Sporadic hemiplegic migraine      14\n",
              "Typical aura with migraine       247\n",
              "Typical aura without migraine     20\n",
              "dtype: int64"
            ]
          },
          "metadata": {},
          "execution_count": 35
        }
      ]
    },
    {
      "cell_type": "markdown",
      "source": [
        "ada 7 data frame karna ada 7 class(typenya 7)"
      ],
      "metadata": {
        "id": "d5BpNXEfX5XZ"
      }
    },
    {
      "cell_type": "code",
      "source": [
        "data_1 = df2[df2['Type'] == 'Typical aura with migraine']\n",
        "data_2 = df2[df2['Type'] == 'Migraine without aura']\n",
        "data_3 = df2[df2['Type'] == 'Familial hemiplegic migraine']\n",
        "data_4 = df2[df2['Type'] == 'Typical aura without migraine']\n",
        "data_5 = df2[df2['Type'] == 'Basilar-type aura']\n",
        "data_6 = df2[df2['Type'] == 'Other']\n",
        "data_7 = df2[df2['Type'] == 'Sporadic hemiplegic migraine']"
      ],
      "metadata": {
        "id": "6mF4hOBxR6YQ"
      },
      "execution_count": null,
      "outputs": []
    },
    {
      "cell_type": "code",
      "source": [
        "from sklearn.utils import resample\n",
        "\n",
        "# 100 sampel untuk tiap class\n",
        "data_1_resample = resample(data_1, n_samples=100, random_state=0, replace=True)\n",
        "data_2_resample = resample(data_2, n_samples=100, random_state=0, replace=True)\n",
        "data_3_resample = resample(data_3, n_samples=100, random_state=0, replace=True)\n",
        "data_4_resample = resample(data_4, n_samples=100, random_state=0, replace=True)\n",
        "data_5_resample = resample(data_5, n_samples=100, random_state=0, replace=True)\n",
        "data_6_resample = resample(data_6, n_samples=100, random_state=0, replace=True)\n",
        "data_7_resample = resample(data_7, n_samples=100, random_state=0, replace=True)"
      ],
      "metadata": {
        "id": "_hPBd0QfR-75"
      },
      "execution_count": null,
      "outputs": []
    },
    {
      "cell_type": "code",
      "source": [
        "train_dataset = pd.concat([data_1, data_2_resample, data_3_resample, data_4_resample, data_5_resample, data_6_resample, data_7_resample])"
      ],
      "metadata": {
        "id": "EdtuM6NrSBJ7"
      },
      "execution_count": null,
      "outputs": []
    },
    {
      "cell_type": "code",
      "source": [
        "plt.figure(figsize=(10, 8))\n",
        "circle = plt.Circle((0, 0), 0.7, color='white')\n",
        "plt.pie(train_dataset.Type.value_counts(), labels=['Typical Aura With Migraine', 'Migraine Without Aura', 'Familial Hemiplegic Nigraine',\n",
        "                                                'Typical Aura Without Migraine', 'Basilar Typed Aura',\n",
        "                                         'Other', 'Sporadic Hemiplegic Migraine'], colors=['blue', 'magenta', 'cyan',\n",
        "                                                                                   'red', 'grey', 'black', 'yellow'])\n",
        "p = plt.gcf()\n",
        "p.gca().add_artist(circle)"
      ],
      "metadata": {
        "id": "p-LdNC5uSDho",
        "colab": {
          "base_uri": "https://localhost:8080/",
          "height": 670
        },
        "outputId": "cbf8f17d-4bd0-41d3-b866-bdcc3bc4e803"
      },
      "execution_count": null,
      "outputs": [
        {
          "output_type": "execute_result",
          "data": {
            "text/plain": [
              "<matplotlib.patches.Circle at 0x7d1f6e657d00>"
            ]
          },
          "metadata": {},
          "execution_count": 39
        },
        {
          "output_type": "display_data",
          "data": {
            "text/plain": [
              "<Figure size 1000x800 with 1 Axes>"
            ],
            "image/png": "[encoded data removed]"
          },
          "metadata": {}
        }
      ]
    },
    {
      "cell_type": "markdown",
      "source": [
        "# 4. Data transformation"
      ],
      "metadata": {
        "id": "c-j21nEaNQu7"
      }
    },
    {
      "cell_type": "code",
      "source": [
        "X = df2[['Age','Duration','Frequency','Location','Character','Intensity','Nausea','Vomit','Phonophobia','Photophobia','Visual','Sensory','Dysphasia','Dysarthria','Vertigo','Tinnitus','Hypoacusis','Diplopia','Defect','Ataxia','Conscience','Paresthesia','DPF']]\n",
        "Y = df2[['Type']]"
      ],
      "metadata": {
        "id": "yChPWpCCJbQI"
      },
      "execution_count": null,
      "outputs": []
    },
    {
      "cell_type": "code",
      "source": [
        "from sklearn.preprocessing import MinMaxScaler\n",
        "\n",
        "# initialising the MinMaxScaler\n",
        "scaler = MinMaxScaler(feature_range=(0, 1))\n",
        "\n",
        "# Numerical columns\n",
        "num_col_ = [col for col in X.columns if X[col].dtype != 'object']\n",
        "x1 = X\n",
        "# learning the statistical parameters for each of the data and transforming\n",
        "x1[num_col_] = scaler.fit_transform(x1[num_col_])\n",
        "x1.head()"
      ],
      "metadata": {
        "id": "5xfrTm38JbMq",
        "colab": {
          "base_uri": "https://localhost:8080/",
          "height": 359
        },
        "outputId": "8c5d890c-fa10-47f7-eed1-5b2f2e57fc53"
      },
      "execution_count": null,
      "outputs": [
        {
          "output_type": "stream",
          "name": "stderr",
          "text": [
            "<ipython-input-41-4504e0c4e47a>:10: SettingWithCopyWarning: \n",
            "A value is trying to be set on a copy of a slice from a DataFrame.\n",
            "Try using .loc[row_indexer,col_indexer] = value instead\n",
            "\n",
            "See the caveats in the documentation: https://pandas.pydata.org/pandas-docs/stable/user_guide/indexing.html#returning-a-view-versus-a-copy\n",
            "  x1[num_col_] = scaler.fit_transform(x1[num_col_])\n"
          ]
        },
        {
          "output_type": "execute_result",
          "data": {
            "text/plain": [
              "        Age  Duration  Frequency  Location  Character  Intensity  Nausea  \\\n",
              "0  0.241935       0.0   0.571429       0.5        0.5   0.666667     1.0   \n",
              "1  0.564516       1.0   0.571429       0.5        0.5   1.000000     1.0   \n",
              "2  0.612903       0.5   0.000000       0.5        0.5   0.666667     1.0   \n",
              "3  0.483871       1.0   0.571429       0.5        0.5   1.000000     1.0   \n",
              "4  0.612903       0.0   0.000000       0.5        0.5   0.666667     1.0   \n",
              "\n",
              "   Vomit  Phonophobia  Photophobia  ...  Dysarthria  Vertigo  Tinnitus  \\\n",
              "0    0.0          1.0          1.0  ...         0.0      0.0       0.0   \n",
              "1    1.0          1.0          1.0  ...         0.0      1.0       0.0   \n",
              "2    1.0          1.0          1.0  ...         0.0      0.0       0.0   \n",
              "3    0.0          1.0          1.0  ...         0.0      1.0       0.0   \n",
              "4    0.0          1.0          1.0  ...         0.0      0.0       0.0   \n",
              "\n",
              "   Hypoacusis  Diplopia  Defect  Ataxia  Conscience  Paresthesia  DPF  \n",
              "0         0.0       0.0     0.0     0.0         0.0          0.0  0.0  \n",
              "1         0.0       0.0     0.0     0.0         0.0          0.0  0.0  \n",
              "2         0.0       0.0     0.0     0.0         0.0          0.0  0.0  \n",
              "3         0.0       0.0     0.0     0.0         0.0          0.0  0.0  \n",
              "4         0.0       0.0     0.0     0.0         0.0          0.0  1.0  \n",
              "\n",
              "[5 rows x 23 columns]"
            ],
            "text/html": [
              "\n",
              "  <div id=\"df-9eeae41d-2d66-4105-87fb-41cf3b9426dc\" class=\"colab-df-container\">\n",
              "    <div>\n",
              "<style scoped>\n",
              "    .dataframe tbody tr th:only-of-type {\n",
              "        vertical-align: middle;\n",
              "    }\n",
              "\n",
              "    .dataframe tbody tr th {\n",
              "        vertical-align: top;\n",
              "    }\n",
              "\n",
              "    .dataframe thead th {\n",
              "        text-align: right;\n",
              "    }\n",
              "</style>\n",
              "<table border=\"1\" class=\"dataframe\">\n",
              "  <thead>\n",
              "    <tr style=\"text-align: right;\">\n",
              "      <th></th>\n",
              "      <th>Age</th>\n",
              "      <th>Duration</th>\n",
              "      <th>Frequency</th>\n",
              "      <th>Location</th>\n",
              "      <th>Character</th>\n",
              "      <th>Intensity</th>\n",
              "      <th>Nausea</th>\n",
              "      <th>Vomit</th>\n",
              "      <th>Phonophobia</th>\n",
              "      <th>Photophobia</th>\n",
              "      <th>...</th>\n",
              "      <th>Dysarthria</th>\n",
              "      <th>Vertigo</th>\n",
              "      <th>Tinnitus</th>\n",
              "      <th>Hypoacusis</th>\n",
              "      <th>Diplopia</th>\n",
              "      <th>Defect</th>\n",
              "      <th>Ataxia</th>\n",
              "      <th>Conscience</th>\n",
              "      <th>Paresthesia</th>\n",
              "      <th>DPF</th>\n",
              "    </tr>\n",
              "  </thead>\n",
              "  <tbody>\n",
              "    <tr>\n",
              "      <th>0</th>\n",
              "      <td>0.241935</td>\n",
              "      <td>0.0</td>\n",
              "      <td>0.571429</td>\n",
              "      <td>0.5</td>\n",
              "      <td>0.5</td>\n",
              "      <td>0.666667</td>\n",
              "      <td>1.0</td>\n",
              "      <td>0.0</td>\n",
              "      <td>1.0</td>\n",
              "      <td>1.0</td>\n",
              "      <td>...</td>\n",
              "      <td>0.0</td>\n",
              "      <td>0.0</td>\n",
              "      <td>0.0</td>\n",
              "      <td>0.0</td>\n",
              "      <td>0.0</td>\n",
              "      <td>0.0</td>\n",
              "      <td>0.0</td>\n",
              "      <td>0.0</td>\n",
              "      <td>0.0</td>\n",
              "      <td>0.0</td>\n",
              "    </tr>\n",
              "    <tr>\n",
              "      <th>1</th>\n",
              "      <td>0.564516</td>\n",
              "      <td>1.0</td>\n",
              "      <td>0.571429</td>\n",
              "      <td>0.5</td>\n",
              "      <td>0.5</td>\n",
              "      <td>1.000000</td>\n",
              "      <td>1.0</td>\n",
              "      <td>1.0</td>\n",
              "      <td>1.0</td>\n",
              "      <td>1.0</td>\n",
              "      <td>...</td>\n",
              "      <td>0.0</td>\n",
              "      <td>1.0</td>\n",
              "      <td>0.0</td>\n",
              "      <td>0.0</td>\n",
              "      <td>0.0</td>\n",
              "      <td>0.0</td>\n",
              "      <td>0.0</td>\n",
              "      <td>0.0</td>\n",
              "      <td>0.0</td>\n",
              "      <td>0.0</td>\n",
              "    </tr>\n",
              "    <tr>\n",
              "      <th>2</th>\n",
              "      <td>0.612903</td>\n",
              "      <td>0.5</td>\n",
              "      <td>0.000000</td>\n",
              "      <td>0.5</td>\n",
              "      <td>0.5</td>\n",
              "      <td>0.666667</td>\n",
              "      <td>1.0</td>\n",
              "      <td>1.0</td>\n",
              "      <td>1.0</td>\n",
              "      <td>1.0</td>\n",
              "      <td>...</td>\n",
              "      <td>0.0</td>\n",
              "      <td>0.0</td>\n",
              "      <td>0.0</td>\n",
              "      <td>0.0</td>\n",
              "      <td>0.0</td>\n",
              "      <td>0.0</td>\n",
              "      <td>0.0</td>\n",
              "      <td>0.0</td>\n",
              "      <td>0.0</td>\n",
              "      <td>0.0</td>\n",
              "    </tr>\n",
              "    <tr>\n",
              "      <th>3</th>\n",
              "      <td>0.483871</td>\n",
              "      <td>1.0</td>\n",
              "      <td>0.571429</td>\n",
              "      <td>0.5</td>\n",
              "      <td>0.5</td>\n",
              "      <td>1.000000</td>\n",
              "      <td>1.0</td>\n",
              "      <td>0.0</td>\n",
              "      <td>1.0</td>\n",
              "      <td>1.0</td>\n",
              "      <td>...</td>\n",
              "      <td>0.0</td>\n",
              "      <td>1.0</td>\n",
              "      <td>0.0</td>\n",
              "      <td>0.0</td>\n",
              "      <td>0.0</td>\n",
              "      <td>0.0</td>\n",
              "      <td>0.0</td>\n",
              "      <td>0.0</td>\n",
              "      <td>0.0</td>\n",
              "      <td>0.0</td>\n",
              "    </tr>\n",
              "    <tr>\n",
              "      <th>4</th>\n",
              "      <td>0.612903</td>\n",
              "      <td>0.0</td>\n",
              "      <td>0.000000</td>\n",
              "      <td>0.5</td>\n",
              "      <td>0.5</td>\n",
              "      <td>0.666667</td>\n",
              "      <td>1.0</td>\n",
              "      <td>0.0</td>\n",
              "      <td>1.0</td>\n",
              "      <td>1.0</td>\n",
              "      <td>...</td>\n",
              "      <td>0.0</td>\n",
              "      <td>0.0</td>\n",
              "      <td>0.0</td>\n",
              "      <td>0.0</td>\n",
              "      <td>0.0</td>\n",
              "      <td>0.0</td>\n",
              "      <td>0.0</td>\n",
              "      <td>0.0</td>\n",
              "      <td>0.0</td>\n",
              "      <td>1.0</td>\n",
              "    </tr>\n",
              "  </tbody>\n",
              "</table>\n",
              "<p>5 rows × 23 columns</p>\n",
              "</div>\n",
              "    <div class=\"colab-df-buttons\">\n",
              "\n",
              "  <div class=\"colab-df-container\">\n",
              "    <button class=\"colab-df-convert\" onclick=\"convertToInteractive('df-9eeae41d-2d66-4105-87fb-41cf3b9426dc')\"\n",
              "            title=\"Convert this dataframe to an interactive table.\"\n",
              "            style=\"display:none;\">\n",
              "\n",
              "  <svg xmlns=\"http://www.w3.org/2000/svg\" height=\"24px\" viewBox=\"0 -960 960 960\">\n",
              "    <path d=\"M120-120v-720h720v720H120Zm60-500h600v-160H180v160Zm220 220h160v-160H400v160Zm0 220h160v-160H400v160ZM180-400h160v-160H180v160Zm440 0h160v-160H620v160ZM180-180h160v-160H180v160Zm440 0h160v-160H620v160Z\"/>\n",
              "  </svg>\n",
              "    </button>\n",
              "\n",
              "  <style>\n",
              "    .colab-df-container {\n",
              "      display:flex;\n",
              "      gap: 12px;\n",
              "    }\n",
              "\n",
              "    .colab-df-convert {\n",
              "      background-color: #E8F0FE;\n",
              "      border: none;\n",
              "      border-radius: 50%;\n",
              "      cursor: pointer;\n",
              "      display: none;\n",
              "      fill: #1967D2;\n",
              "      height: 32px;\n",
              "      padding: 0 0 0 0;\n",
              "      width: 32px;\n",
              "    }\n",
              "\n",
              "    .colab-df-convert:hover {\n",
              "      background-color: #E2EBFA;\n",
              "      box-shadow: 0px 1px 2px rgba(60, 64, 67, 0.3), 0px 1px 3px 1px rgba(60, 64, 67, 0.15);\n",
              "      fill: #174EA6;\n",
              "    }\n",
              "\n",
              "    .colab-df-buttons div {\n",
              "      margin-bottom: 4px;\n",
              "    }\n",
              "\n",
              "    [theme=dark] .colab-df-convert {\n",
              "      background-color: #3B4455;\n",
              "      fill: #D2E3FC;\n",
              "    }\n",
              "\n",
              "    [theme=dark] .colab-df-convert:hover {\n",
              "      background-color: #434B5C;\n",
              "      box-shadow: 0px 1px 3px 1px rgba(0, 0, 0, 0.15);\n",
              "      filter: drop-shadow(0px 1px 2px rgba(0, 0, 0, 0.3));\n",
              "      fill: #FFFFFF;\n",
              "    }\n",
              "  </style>\n",
              "\n",
              "    <script>\n",
              "      const buttonEl =\n",
              "        document.querySelector('#df-9eeae41d-2d66-4105-87fb-41cf3b9426dc button.colab-df-convert');\n",
              "      buttonEl.style.display =\n",
              "        google.colab.kernel.accessAllowed ? 'block' : 'none';\n",
              "\n",
              "      async function convertToInteractive(key) {\n",
              "        const element = document.querySelector('#df-9eeae41d-2d66-4105-87fb-41cf3b9426dc');\n",
              "        const dataTable =\n",
              "          await google.colab.kernel.invokeFunction('convertToInteractive',\n",
              "                                                    [key], {});\n",
              "        if (!dataTable) return;\n",
              "\n",
              "        const docLinkHtml = 'Like what you see? Visit the ' +\n",
              "          '<a target=\"_blank\" href=https://colab.research.google.com/notebooks/data_table.ipynb>data table notebook</a>'\n",
              "          + ' to learn more about interactive tables.';\n",
              "        element.innerHTML = '';\n",
              "        dataTable['output_type'] = 'display_data';\n",
              "        await google.colab.output.renderOutput(dataTable, element);\n",
              "        const docLink = document.createElement('div');\n",
              "        docLink.innerHTML = docLinkHtml;\n",
              "        element.appendChild(docLink);\n",
              "      }\n",
              "    </script>\n",
              "  </div>\n",
              "\n",
              "\n",
              "<div id=\"df-0e46e297-1515-4c03-acbf-1d9b3c2ec258\">\n",
              "  <button class=\"colab-df-quickchart\" onclick=\"quickchart('df-0e46e297-1515-4c03-acbf-1d9b3c2ec258')\"\n",
              "            title=\"Suggest charts\"\n",
              "            style=\"display:none;\">\n",
              "\n",
              "<svg xmlns=\"http://www.w3.org/2000/svg\" height=\"24px\"viewBox=\"0 0 24 24\"\n",
              "     width=\"24px\">\n",
              "    <g>\n",
              "        <path d=\"M19 3H5c-1.1 0-2 .9-2 2v14c0 1.1.9 2 2 2h14c1.1 0 2-.9 2-2V5c0-1.1-.9-2-2-2zM9 17H7v-7h2v7zm4 0h-2V7h2v10zm4 0h-2v-4h2v4z\"/>\n",
              "    </g>\n",
              "</svg>\n",
              "  </button>\n",
              "\n",
              "<style>\n",
              "  .colab-df-quickchart {\n",
              "      --bg-color: #E8F0FE;\n",
              "      --fill-color: #1967D2;\n",
              "      --hover-bg-color: #E2EBFA;\n",
              "      --hover-fill-color: #174EA6;\n",
              "      --disabled-fill-color: #AAA;\n",
              "      --disabled-bg-color: #DDD;\n",
              "  }\n",
              "\n",
              "  [theme=dark] .colab-df-quickchart {\n",
              "      --bg-color: #3B4455;\n",
              "      --fill-color: #D2E3FC;\n",
              "      --hover-bg-color: #434B5C;\n",
              "      --hover-fill-color: #FFFFFF;\n",
              "      --disabled-bg-color: #3B4455;\n",
              "      --disabled-fill-color: #666;\n",
              "  }\n",
              "\n",
              "  .colab-df-quickchart {\n",
              "    background-color: var(--bg-color);\n",
              "    border: none;\n",
              "    border-radius: 50%;\n",
              "    cursor: pointer;\n",
              "    display: none;\n",
              "    fill: var(--fill-color);\n",
              "    height: 32px;\n",
              "    padding: 0;\n",
              "    width: 32px;\n",
              "  }\n",
              "\n",
              "  .colab-df-quickchart:hover {\n",
              "    background-color: var(--hover-bg-color);\n",
              "    box-shadow: 0 1px 2px rgba(60, 64, 67, 0.3), 0 1px 3px 1px rgba(60, 64, 67, 0.15);\n",
              "    fill: var(--button-hover-fill-color);\n",
              "  }\n",
              "\n",
              "  .colab-df-quickchart-complete:disabled,\n",
              "  .colab-df-quickchart-complete:disabled:hover {\n",
              "    background-color: var(--disabled-bg-color);\n",
              "    fill: var(--disabled-fill-color);\n",
              "    box-shadow: none;\n",
              "  }\n",
              "\n",
              "  .colab-df-spinner {\n",
              "    border: 2px solid var(--fill-color);\n",
              "    border-color: transparent;\n",
              "    border-bottom-color: var(--fill-color);\n",
              "    animation:\n",
              "      spin 1s steps(1) infinite;\n",
              "  }\n",
              "\n",
              "  @keyframes spin {\n",
              "    0% {\n",
              "      border-color: transparent;\n",
              "      border-bottom-color: var(--fill-color);\n",
              "      border-left-color: var(--fill-color);\n",
              "    }\n",
              "    20% {\n",
              "      border-color: transparent;\n",
              "      border-left-color: var(--fill-color);\n",
              "      border-top-color: var(--fill-color);\n",
              "    }\n",
              "    30% {\n",
              "      border-color: transparent;\n",
              "      border-left-color: var(--fill-color);\n",
              "      border-top-color: var(--fill-color);\n",
              "      border-right-color: var(--fill-color);\n",
              "    }\n",
              "    40% {\n",
              "      border-color: transparent;\n",
              "      border-right-color: var(--fill-color);\n",
              "      border-top-color: var(--fill-color);\n",
              "    }\n",
              "    60% {\n",
              "      border-color: transparent;\n",
              "      border-right-color: var(--fill-color);\n",
              "    }\n",
              "    80% {\n",
              "      border-color: transparent;\n",
              "      border-right-color: var(--fill-color);\n",
              "      border-bottom-color: var(--fill-color);\n",
              "    }\n",
              "    90% {\n",
              "      border-color: transparent;\n",
              "      border-bottom-color: var(--fill-color);\n",
              "    }\n",
              "  }\n",
              "</style>\n",
              "\n",
              "  <script>\n",
              "    async function quickchart(key) {\n",
              "      const quickchartButtonEl =\n",
              "        document.querySelector('#' + key + ' button');\n",
              "      quickchartButtonEl.disabled = true;  // To prevent multiple clicks.\n",
              "      quickchartButtonEl.classList.add('colab-df-spinner');\n",
              "      try {\n",
              "        const charts = await google.colab.kernel.invokeFunction(\n",
              "            'suggestCharts', [key], {});\n",
              "      } catch (error) {\n",
              "        console.error('Error during call to suggestCharts:', error);\n",
              "      }\n",
              "      quickchartButtonEl.classList.remove('colab-df-spinner');\n",
              "      quickchartButtonEl.classList.add('colab-df-quickchart-complete');\n",
              "    }\n",
              "    (() => {\n",
              "      let quickchartButtonEl =\n",
              "        document.querySelector('#df-0e46e297-1515-4c03-acbf-1d9b3c2ec258 button');\n",
              "      quickchartButtonEl.style.display =\n",
              "        google.colab.kernel.accessAllowed ? 'block' : 'none';\n",
              "    })();\n",
              "  </script>\n",
              "</div>\n",
              "    </div>\n",
              "  </div>\n"
            ]
          },
          "metadata": {},
          "execution_count": 41
        }
      ]
    },
    {
      "cell_type": "markdown",
      "source": [
        "# Build Model"
      ],
      "metadata": {
        "id": "iVZg8LaTPMBg"
      }
    },
    {
      "cell_type": "markdown",
      "source": [
        "## Split Data"
      ],
      "metadata": {
        "id": "loo6Twapc6od"
      }
    },
    {
      "cell_type": "code",
      "source": [
        "import pandas as pd\n",
        "import numpy as np\n",
        "import seaborn as sns\n",
        "from sklearn.preprocessing import LabelEncoder\n",
        "from sklearn.preprocessing import StandardScaler\n",
        "from sklearn.model_selection import train_test_split\n",
        "from matplotlib import pyplot as plt\n",
        "from tensorflow.keras.utils import to_categorical"
      ],
      "metadata": {
        "id": "h4Sd4GHVPnA9"
      },
      "execution_count": null,
      "outputs": []
    },
    {
      "cell_type": "code",
      "source": [
        "X_train, X_test, Y_train, Y_test = train_test_split(X, Y, test_size=0.3, random_state=0)"
      ],
      "metadata": {
        "id": "yPqvZDXRO_vE"
      },
      "execution_count": null,
      "outputs": []
    },
    {
      "cell_type": "markdown",
      "source": [
        "## encode"
      ],
      "metadata": {
        "id": "i-fuXEH7PtW1"
      }
    },
    {
      "cell_type": "code",
      "source": [
        "encoder = LabelEncoder()\n",
        "encoder.fit(Y)\n",
        "encoded_Y = encoder.transform(Y)"
      ],
      "metadata": {
        "colab": {
          "base_uri": "https://localhost:8080/"
        },
        "id": "QoN_G2VtPq-i",
        "outputId": "c333e82a-ec93-4e5a-d020-3a4d81dc3ebc"
      },
      "execution_count": null,
      "outputs": [
        {
          "output_type": "stream",
          "name": "stderr",
          "text": [
            "/usr/local/lib/python3.10/dist-packages/sklearn/preprocessing/_label.py:99: DataConversionWarning: A column-vector y was passed when a 1d array was expected. Please change the shape of y to (n_samples, ), for example using ravel().\n",
            "  y = column_or_1d(y, warn=True)\n",
            "/usr/local/lib/python3.10/dist-packages/sklearn/preprocessing/_label.py:134: DataConversionWarning: A column-vector y was passed when a 1d array was expected. Please change the shape of y to (n_samples, ), for example using ravel().\n",
            "  y = column_or_1d(y, dtype=self.classes_.dtype, warn=True)\n"
          ]
        }
      ]
    },
    {
      "cell_type": "code",
      "source": [
        "labelled_Y = to_categorical(encoded_Y)"
      ],
      "metadata": {
        "id": "-lfGPjB3P1V7"
      },
      "execution_count": null,
      "outputs": []
    },
    {
      "cell_type": "markdown",
      "source": [
        "## Modeling"
      ],
      "metadata": {
        "id": "0N6scADqQLWq"
      }
    },
    {
      "cell_type": "code",
      "source": [
        "# spot check algorithm\n",
        "from sklearn.neighbors import KNeighborsClassifier\n",
        "from sklearn.naive_bayes import GaussianNB\n",
        "from sklearn.svm import SVC\n",
        "from sklearn.metrics import accuracy_score\n",
        "\n",
        "\n",
        "models = []\n",
        "models.append(('KNN',KNeighborsClassifier()))\n",
        "models.append(('NB', GaussianNB()))\n",
        "models.append(('SVM', SVC()))"
      ],
      "metadata": {
        "id": "gkhs3dm8P2rE"
      },
      "execution_count": null,
      "outputs": []
    },
    {
      "cell_type": "code",
      "source": [
        "for name, model in models:\n",
        "    model.fit(X_train, Y_train)\n",
        "    predictions = model.predict(X_test)\n",
        "    accuracy = accuracy_score(Y_test, predictions)\n",
        "    print(f\"Model: {name}, Accuracy: {accuracy}\")"
      ],
      "metadata": {
        "id": "qUoLvH6UQBAY",
        "colab": {
          "base_uri": "https://localhost:8080/"
        },
        "outputId": "2cd2ae7f-b71d-4fb1-ca47-08403478c47f"
      },
      "execution_count": null,
      "outputs": [
        {
          "output_type": "stream",
          "name": "stderr",
          "text": [
            "/usr/local/lib/python3.10/dist-packages/sklearn/neighbors/_classification.py:215: DataConversionWarning: A column-vector y was passed when a 1d array was expected. Please change the shape of y to (n_samples,), for example using ravel().\n",
            "  return self._fit(X, y)\n"
          ]
        },
        {
          "output_type": "stream",
          "name": "stdout",
          "text": [
            "Model: KNN, Accuracy: 0.7916666666666666\n",
            "Model: NB, Accuracy: 0.925\n",
            "Model: SVM, Accuracy: 0.8833333333333333\n"
          ]
        },
        {
          "output_type": "stream",
          "name": "stderr",
          "text": [
            "/usr/local/lib/python3.10/dist-packages/sklearn/utils/validation.py:1143: DataConversionWarning: A column-vector y was passed when a 1d array was expected. Please change the shape of y to (n_samples, ), for example using ravel().\n",
            "  y = column_or_1d(y, warn=True)\n",
            "/usr/local/lib/python3.10/dist-packages/sklearn/utils/validation.py:1143: DataConversionWarning: A column-vector y was passed when a 1d array was expected. Please change the shape of y to (n_samples, ), for example using ravel().\n",
            "  y = column_or_1d(y, warn=True)\n"
          ]
        }
      ]
    },
    {
      "cell_type": "markdown",
      "source": [
        "### NB"
      ],
      "metadata": {
        "id": "jwzPLuLjUeda"
      }
    },
    {
      "cell_type": "code",
      "source": [
        "\n",
        "#Metrics\n",
        "from sklearn.metrics import make_scorer, accuracy_score,precision_score\n",
        "from sklearn.metrics import classification_report\n",
        "from sklearn.metrics import confusion_matrix\n",
        "from sklearn.metrics import accuracy_score ,precision_score,recall_score,f1_score\n",
        "\n",
        "gaussian = GaussianNB()\n",
        "gaussian.fit(X_train, Y_train)\n",
        "Y_pred = gaussian.predict(X_test)\n",
        "accuracy_nb=round(accuracy_score(Y_test,Y_pred)* 100, 2)\n",
        "acc_gaussian = round(gaussian.score(X_train, Y_train) * 100, 2)\n",
        "\n",
        "cm = confusion_matrix(Y_test, Y_pred)\n",
        "accuracy = accuracy_score(Y_test,Y_pred)\n",
        "precision =precision_score(Y_test, Y_pred,average='micro')\n",
        "recall =  recall_score(Y_test, Y_pred,average='micro')\n",
        "f1 = f1_score(Y_test,Y_pred,average='micro')\n",
        "print('Confusion matrix for Naive Bayes\\n',cm)\n",
        "print('accuracy_Naive Bayes: %.3f' %accuracy)\n",
        "print('precision_Naive Bayes: %.3f' %precision)\n",
        "print('recall_Naive Bayes: %.3f' %recall)\n",
        "print('f1-score_Naive Bayes : %.3f' %f1)"
      ],
      "metadata": {
        "colab": {
          "base_uri": "https://localhost:8080/"
        },
        "id": "7ps9WAdyTRKZ",
        "outputId": "c5585761-d70c-49d3-f833-bcb465df6676"
      },
      "execution_count": null,
      "outputs": [
        {
          "output_type": "stream",
          "name": "stdout",
          "text": [
            "Confusion matrix for Naive Bayes\n",
            " [[ 1  1  0  0  1  0  0]\n",
            " [ 0  5  0  0  0  2  0]\n",
            " [ 0  0 17  0  0  0  0]\n",
            " [ 0  0  0  3  0  0  0]\n",
            " [ 0  0  0  0  3  3  0]\n",
            " [ 1  1  0  0  0 76  0]\n",
            " [ 0  0  0  0  0  0  6]]\n",
            "accuracy_Naive Bayes: 0.925\n",
            "precision_Naive Bayes: 0.925\n",
            "recall_Naive Bayes: 0.925\n",
            "f1-score_Naive Bayes : 0.925\n"
          ]
        },
        {
          "output_type": "stream",
          "name": "stderr",
          "text": [
            "/usr/local/lib/python3.10/dist-packages/sklearn/utils/validation.py:1143: DataConversionWarning: A column-vector y was passed when a 1d array was expected. Please change the shape of y to (n_samples, ), for example using ravel().\n",
            "  y = column_or_1d(y, warn=True)\n"
          ]
        }
      ]
    },
    {
      "cell_type": "code",
      "source": [
        "plt.figure(figsize=(10,6))\n",
        "fx=sns.heatmap(confusion_matrix(Y_test,Y_pred), annot=True, fmt=\".2f\",cmap=\"GnBu\")\n",
        "fx.set_title('Confusion Matrix \\n');\n",
        "fx.set_xlabel('\\n Predicted Values\\n')\n",
        "fx.set_ylabel('Actual Values\\n');\n",
        "plt.show()"
      ],
      "metadata": {
        "colab": {
          "base_uri": "https://localhost:8080/",
          "height": 617
        },
        "id": "Uvc4gHdeQZHV",
        "outputId": "c544825b-6a73-4e2c-ef12-f57a74ebce19"
      },
      "execution_count": null,
      "outputs": [
        {
          "output_type": "display_data",
          "data": {
            "text/plain": [
              "<Figure size 1000x600 with 2 Axes>"
            ],
            "image/png": "[encoded data removed]"
          },
          "metadata": {}
        }
      ]
    },
    {
      "cell_type": "code",
      "source": [
        "from sklearn.metrics import classification_report\n",
        "print(classification_report(Y_test, Y_pred))"
      ],
      "metadata": {
        "colab": {
          "base_uri": "https://localhost:8080/"
        },
        "id": "GL1nvxu_QoUp",
        "outputId": "e0fade08-78ad-457f-b0b9-5358bf5d0294"
      },
      "execution_count": null,
      "outputs": [
        {
          "output_type": "stream",
          "name": "stdout",
          "text": [
            "                               precision    recall  f1-score   support\n",
            "\n",
            "            Basilar-type aura       0.50      0.33      0.40         3\n",
            " Familial hemiplegic migraine       0.71      0.71      0.71         7\n",
            "        Migraine without aura       1.00      1.00      1.00        17\n",
            "                        Other       1.00      1.00      1.00         3\n",
            " Sporadic hemiplegic migraine       0.75      0.50      0.60         6\n",
            "   Typical aura with migraine       0.94      0.97      0.96        78\n",
            "Typical aura without migraine       1.00      1.00      1.00         6\n",
            "\n",
            "                     accuracy                           0.93       120\n",
            "                    macro avg       0.84      0.79      0.81       120\n",
            "                 weighted avg       0.92      0.93      0.92       120\n",
            "\n"
          ]
        }
      ]
    },
    {
      "cell_type": "markdown",
      "source": [
        "### SVM"
      ],
      "metadata": {
        "id": "pAO95vRoUiyg"
      }
    },
    {
      "cell_type": "code",
      "source": [
        "from sklearn.svm import SVC\n",
        "linear_svc = SVC(max_iter=4000)\n",
        "linear_svc.fit(X_train,Y_train)\n",
        "Y_pred = linear_svc.predict(X_test)\n",
        "accuracy_svc=round(accuracy_score(Y_test,Y_pred)* 100, 2)\n",
        "acc_linear_svc = round(linear_svc.score(X_train, Y_train) * 100, 2)\n",
        "\n",
        "cm = confusion_matrix(Y_test, Y_pred)\n",
        "accuracy = accuracy_score(Y_test,Y_pred)\n",
        "precision =precision_score(Y_test, Y_pred,average='micro')\n",
        "recall =  recall_score(Y_test, Y_pred,average='micro')\n",
        "f1 = f1_score(Y_test,Y_pred,average='micro')\n",
        "print('Confusion matrix for SVM\\n',cm)\n",
        "print('accuracy_Naive Bayes: %.3f' %accuracy)\n",
        "print('precision_Naive Bayes: %.3f' %precision)\n",
        "print('recall_Naive Bayes: %.3f' %recall)\n",
        "print('f1-score_Naive Bayes : %.3f' %f1)"
      ],
      "metadata": {
        "id": "xxfw-T0SUiPQ",
        "colab": {
          "base_uri": "https://localhost:8080/"
        },
        "outputId": "8f79551c-67f6-41e6-eb9f-16c4497a6afb"
      },
      "execution_count": null,
      "outputs": [
        {
          "output_type": "stream",
          "name": "stdout",
          "text": [
            "Confusion matrix for SVM\n",
            " [[ 1  1  0  0  1  0  0]\n",
            " [ 0  3  0  0  0  4  0]\n",
            " [ 0  0 15  0  0  2  0]\n",
            " [ 0  0  0  2  0  1  0]\n",
            " [ 0  0  0  0  1  5  0]\n",
            " [ 0  0  0  0  0 78  0]\n",
            " [ 0  0  0  0  0  0  6]]\n",
            "accuracy_Naive Bayes: 0.883\n",
            "precision_Naive Bayes: 0.883\n",
            "recall_Naive Bayes: 0.883\n",
            "f1-score_Naive Bayes : 0.883\n"
          ]
        },
        {
          "output_type": "stream",
          "name": "stderr",
          "text": [
            "/usr/local/lib/python3.10/dist-packages/sklearn/utils/validation.py:1143: DataConversionWarning: A column-vector y was passed when a 1d array was expected. Please change the shape of y to (n_samples, ), for example using ravel().\n",
            "  y = column_or_1d(y, warn=True)\n"
          ]
        }
      ]
    },
    {
      "cell_type": "markdown",
      "source": [
        "### KNN"
      ],
      "metadata": {
        "id": "cJvg5ljCaW0j"
      }
    },
    {
      "cell_type": "code",
      "source": [
        "from sklearn.neighbors import KNeighborsClassifier\n",
        "knn = KNeighborsClassifier(n_neighbors = 7)\n",
        "knn.fit(X_train, Y_train)\n",
        "Y_pred = knn.predict(X_test)\n",
        "accuracy_knn=round(accuracy_score(Y_test,Y_pred)* 100, 2)\n",
        "acc_knn = round(knn.score(X_train, Y_train) * 100, 2)\n",
        "\n",
        "cm = confusion_matrix(Y_test, Y_pred)\n",
        "accuracy = accuracy_score(Y_test,Y_pred)\n",
        "precision =precision_score(Y_test, Y_pred,average='micro')\n",
        "recall =  recall_score(Y_test, Y_pred,average='micro')\n",
        "f1 = f1_score(Y_test,Y_pred,average='micro')\n",
        "print('Confusion matrix for KNN\\n',cm)\n",
        "print('accuracy_DecisionTree: %.3f' %accuracy)\n",
        "print('precision_DecisionTree: %.3f' %precision)\n",
        "print('recall_DecisionTree: %.3f' %recall)\n",
        "print('f1-score_DecisionTree : %.3f' %f1)"
      ],
      "metadata": {
        "id": "HFvhX3l3UiL-",
        "colab": {
          "base_uri": "https://localhost:8080/"
        },
        "outputId": "462da89a-067c-4573-9386-5e314890cbc7"
      },
      "execution_count": null,
      "outputs": [
        {
          "output_type": "stream",
          "name": "stdout",
          "text": [
            "Confusion matrix for KNN\n",
            " [[ 0  0  0  0  1  2  0]\n",
            " [ 0  3  0  0  0  4  0]\n",
            " [ 0  0 13  0  0  4  0]\n",
            " [ 0  0  0  2  0  1  0]\n",
            " [ 0  0  1  0  1  4  0]\n",
            " [ 0  0  2  0  0 76  0]\n",
            " [ 0  1  0  0  0  4  1]]\n",
            "accuracy_DecisionTree: 0.800\n",
            "precision_DecisionTree: 0.800\n",
            "recall_DecisionTree: 0.800\n",
            "f1-score_DecisionTree : 0.800\n"
          ]
        },
        {
          "output_type": "stream",
          "name": "stderr",
          "text": [
            "/usr/local/lib/python3.10/dist-packages/sklearn/neighbors/_classification.py:215: DataConversionWarning: A column-vector y was passed when a 1d array was expected. Please change the shape of y to (n_samples,), for example using ravel().\n",
            "  return self._fit(X, y)\n"
          ]
        }
      ]
    },
    {
      "cell_type": "markdown",
      "source": [
        "# Data Visualization"
      ],
      "metadata": {
        "id": "8oXJsCGnNXbu"
      }
    },
    {
      "cell_type": "code",
      "source": [
        "from sklearn.datasets import make_blobs\n",
        "X_test, Y_test = make_blobs(255, 7, centers=7, random_state=0, cluster_std=1)\n",
        "plt.scatter(X_test[:, 0], X_test[:, 1], c=Y_test, s=20, cmap='RdBu');"
      ],
      "metadata": {
        "colab": {
          "base_uri": "https://localhost:8080/",
          "height": 430
        },
        "id": "FZERDg8_OHtF",
        "outputId": "f35e2179-2b67-4b5f-a4c1-8727c98d3d70"
      },
      "execution_count": null,
      "outputs": [
        {
          "output_type": "display_data",
          "data": {
            "text/plain": [
              "<Figure size 640x480 with 1 Axes>"
            ],
            "image/png": "[encoded data removed]"
          },
          "metadata": {}
        }
      ]
    },
    {
      "cell_type": "code",
      "source": [
        "results = pd.DataFrame({\n",
        "    'Model': [ 'KNN',\n",
        "              'Naive Bayes',\n",
        "              'Support Vector Machine'],\n",
        "    'Score': [ acc_knn,\n",
        "              acc_gaussian,\n",
        "              acc_linear_svc],\n",
        "    \"Accuracy_score\":[accuracy_knn,\n",
        "                      accuracy_nb,\n",
        "                      accuracy_svc\n",
        "                     ]})\n",
        "result_df = results.sort_values(by='Accuracy_score', ascending=False)\n",
        "result_df = result_df.reset_index(drop=True)\n",
        "result_df.head(9)"
      ],
      "metadata": {
        "id": "mgaVjy7YQsL1",
        "colab": {
          "base_uri": "https://localhost:8080/",
          "height": 143
        },
        "outputId": "5ad05401-34f3-4fb8-b946-2a827aa661ef"
      },
      "execution_count": null,
      "outputs": [
        {
          "output_type": "execute_result",
          "data": {
            "text/plain": [
              "                    Model  Score  Accuracy_score\n",
              "0             Naive Bayes  95.31           92.50\n",
              "1  Support Vector Machine  92.78           88.33\n",
              "2                     KNN  81.59           80.00"
            ],
            "text/html": [
              "\n",
              "  <div id=\"df-83f14a26-e1cb-4c31-b20a-cafe57f1513b\" class=\"colab-df-container\">\n",
              "    <div>\n",
              "<style scoped>\n",
              "    .dataframe tbody tr th:only-of-type {\n",
              "        vertical-align: middle;\n",
              "    }\n",
              "\n",
              "    .dataframe tbody tr th {\n",
              "        vertical-align: top;\n",
              "    }\n",
              "\n",
              "    .dataframe thead th {\n",
              "        text-align: right;\n",
              "    }\n",
              "</style>\n",
              "<table border=\"1\" class=\"dataframe\">\n",
              "  <thead>\n",
              "    <tr style=\"text-align: right;\">\n",
              "      <th></th>\n",
              "      <th>Model</th>\n",
              "      <th>Score</th>\n",
              "      <th>Accuracy_score</th>\n",
              "    </tr>\n",
              "  </thead>\n",
              "  <tbody>\n",
              "    <tr>\n",
              "      <th>0</th>\n",
              "      <td>Naive Bayes</td>\n",
              "      <td>95.31</td>\n",
              "      <td>92.50</td>\n",
              "    </tr>\n",
              "    <tr>\n",
              "      <th>1</th>\n",
              "      <td>Support Vector Machine</td>\n",
              "      <td>92.78</td>\n",
              "      <td>88.33</td>\n",
              "    </tr>\n",
              "    <tr>\n",
              "      <th>2</th>\n",
              "      <td>KNN</td>\n",
              "      <td>81.59</td>\n",
              "      <td>80.00</td>\n",
              "    </tr>\n",
              "  </tbody>\n",
              "</table>\n",
              "</div>\n",
              "    <div class=\"colab-df-buttons\">\n",
              "\n",
              "  <div class=\"colab-df-container\">\n",
              "    <button class=\"colab-df-convert\" onclick=\"convertToInteractive('df-83f14a26-e1cb-4c31-b20a-cafe57f1513b')\"\n",
              "            title=\"Convert this dataframe to an interactive table.\"\n",
              "            style=\"display:none;\">\n",
              "\n",
              "  <svg xmlns=\"http://www.w3.org/2000/svg\" height=\"24px\" viewBox=\"0 -960 960 960\">\n",
              "    <path d=\"M120-120v-720h720v720H120Zm60-500h600v-160H180v160Zm220 220h160v-160H400v160Zm0 220h160v-160H400v160ZM180-400h160v-160H180v160Zm440 0h160v-160H620v160ZM180-180h160v-160H180v160Zm440 0h160v-160H620v160Z\"/>\n",
              "  </svg>\n",
              "    </button>\n",
              "\n",
              "  <style>\n",
              "    .colab-df-container {\n",
              "      display:flex;\n",
              "      gap: 12px;\n",
              "    }\n",
              "\n",
              "    .colab-df-convert {\n",
              "      background-color: #E8F0FE;\n",
              "      border: none;\n",
              "      border-radius: 50%;\n",
              "      cursor: pointer;\n",
              "      display: none;\n",
              "      fill: #1967D2;\n",
              "      height: 32px;\n",
              "      padding: 0 0 0 0;\n",
              "      width: 32px;\n",
              "    }\n",
              "\n",
              "    .colab-df-convert:hover {\n",
              "      background-color: #E2EBFA;\n",
              "      box-shadow: 0px 1px 2px rgba(60, 64, 67, 0.3), 0px 1px 3px 1px rgba(60, 64, 67, 0.15);\n",
              "      fill: #174EA6;\n",
              "    }\n",
              "\n",
              "    .colab-df-buttons div {\n",
              "      margin-bottom: 4px;\n",
              "    }\n",
              "\n",
              "    [theme=dark] .colab-df-convert {\n",
              "      background-color: #3B4455;\n",
              "      fill: #D2E3FC;\n",
              "    }\n",
              "\n",
              "    [theme=dark] .colab-df-convert:hover {\n",
              "      background-color: #434B5C;\n",
              "      box-shadow: 0px 1px 3px 1px rgba(0, 0, 0, 0.15);\n",
              "      filter: drop-shadow(0px 1px 2px rgba(0, 0, 0, 0.3));\n",
              "      fill: #FFFFFF;\n",
              "    }\n",
              "  </style>\n",
              "\n",
              "    <script>\n",
              "      const buttonEl =\n",
              "        document.querySelector('#df-83f14a26-e1cb-4c31-b20a-cafe57f1513b button.colab-df-convert');\n",
              "      buttonEl.style.display =\n",
              "        google.colab.kernel.accessAllowed ? 'block' : 'none';\n",
              "\n",
              "      async function convertToInteractive(key) {\n",
              "        const element = document.querySelector('#df-83f14a26-e1cb-4c31-b20a-cafe57f1513b');\n",
              "        const dataTable =\n",
              "          await google.colab.kernel.invokeFunction('convertToInteractive',\n",
              "                                                    [key], {});\n",
              "        if (!dataTable) return;\n",
              "\n",
              "        const docLinkHtml = 'Like what you see? Visit the ' +\n",
              "          '<a target=\"_blank\" href=https://colab.research.google.com/notebooks/data_table.ipynb>data table notebook</a>'\n",
              "          + ' to learn more about interactive tables.';\n",
              "        element.innerHTML = '';\n",
              "        dataTable['output_type'] = 'display_data';\n",
              "        await google.colab.output.renderOutput(dataTable, element);\n",
              "        const docLink = document.createElement('div');\n",
              "        docLink.innerHTML = docLinkHtml;\n",
              "        element.appendChild(docLink);\n",
              "      }\n",
              "    </script>\n",
              "  </div>\n",
              "\n",
              "\n",
              "<div id=\"df-e4de67ea-8f74-4ded-9340-614e19b3cee8\">\n",
              "  <button class=\"colab-df-quickchart\" onclick=\"quickchart('df-e4de67ea-8f74-4ded-9340-614e19b3cee8')\"\n",
              "            title=\"Suggest charts\"\n",
              "            style=\"display:none;\">\n",
              "\n",
              "<svg xmlns=\"http://www.w3.org/2000/svg\" height=\"24px\"viewBox=\"0 0 24 24\"\n",
              "     width=\"24px\">\n",
              "    <g>\n",
              "        <path d=\"M19 3H5c-1.1 0-2 .9-2 2v14c0 1.1.9 2 2 2h14c1.1 0 2-.9 2-2V5c0-1.1-.9-2-2-2zM9 17H7v-7h2v7zm4 0h-2V7h2v10zm4 0h-2v-4h2v4z\"/>\n",
              "    </g>\n",
              "</svg>\n",
              "  </button>\n",
              "\n",
              "<style>\n",
              "  .colab-df-quickchart {\n",
              "      --bg-color: #E8F0FE;\n",
              "      --fill-color: #1967D2;\n",
              "      --hover-bg-color: #E2EBFA;\n",
              "      --hover-fill-color: #174EA6;\n",
              "      --disabled-fill-color: #AAA;\n",
              "      --disabled-bg-color: #DDD;\n",
              "  }\n",
              "\n",
              "  [theme=dark] .colab-df-quickchart {\n",
              "      --bg-color: #3B4455;\n",
              "      --fill-color: #D2E3FC;\n",
              "      --hover-bg-color: #434B5C;\n",
              "      --hover-fill-color: #FFFFFF;\n",
              "      --disabled-bg-color: #3B4455;\n",
              "      --disabled-fill-color: #666;\n",
              "  }\n",
              "\n",
              "  .colab-df-quickchart {\n",
              "    background-color: var(--bg-color);\n",
              "    border: none;\n",
              "    border-radius: 50%;\n",
              "    cursor: pointer;\n",
              "    display: none;\n",
              "    fill: var(--fill-color);\n",
              "    height: 32px;\n",
              "    padding: 0;\n",
              "    width: 32px;\n",
              "  }\n",
              "\n",
              "  .colab-df-quickchart:hover {\n",
              "    background-color: var(--hover-bg-color);\n",
              "    box-shadow: 0 1px 2px rgba(60, 64, 67, 0.3), 0 1px 3px 1px rgba(60, 64, 67, 0.15);\n",
              "    fill: var(--button-hover-fill-color);\n",
              "  }\n",
              "\n",
              "  .colab-df-quickchart-complete:disabled,\n",
              "  .colab-df-quickchart-complete:disabled:hover {\n",
              "    background-color: var(--disabled-bg-color);\n",
              "    fill: var(--disabled-fill-color);\n",
              "    box-shadow: none;\n",
              "  }\n",
              "\n",
              "  .colab-df-spinner {\n",
              "    border: 2px solid var(--fill-color);\n",
              "    border-color: transparent;\n",
              "    border-bottom-color: var(--fill-color);\n",
              "    animation:\n",
              "      spin 1s steps(1) infinite;\n",
              "  }\n",
              "\n",
              "  @keyframes spin {\n",
              "    0% {\n",
              "      border-color: transparent;\n",
              "      border-bottom-color: var(--fill-color);\n",
              "      border-left-color: var(--fill-color);\n",
              "    }\n",
              "    20% {\n",
              "      border-color: transparent;\n",
              "      border-left-color: var(--fill-color);\n",
              "      border-top-color: var(--fill-color);\n",
              "    }\n",
              "    30% {\n",
              "      border-color: transparent;\n",
              "      border-left-color: var(--fill-color);\n",
              "      border-top-color: var(--fill-color);\n",
              "      border-right-color: var(--fill-color);\n",
              "    }\n",
              "    40% {\n",
              "      border-color: transparent;\n",
              "      border-right-color: var(--fill-color);\n",
              "      border-top-color: var(--fill-color);\n",
              "    }\n",
              "    60% {\n",
              "      border-color: transparent;\n",
              "      border-right-color: var(--fill-color);\n",
              "    }\n",
              "    80% {\n",
              "      border-color: transparent;\n",
              "      border-right-color: var(--fill-color);\n",
              "      border-bottom-color: var(--fill-color);\n",
              "    }\n",
              "    90% {\n",
              "      border-color: transparent;\n",
              "      border-bottom-color: var(--fill-color);\n",
              "    }\n",
              "  }\n",
              "</style>\n",
              "\n",
              "  <script>\n",
              "    async function quickchart(key) {\n",
              "      const quickchartButtonEl =\n",
              "        document.querySelector('#' + key + ' button');\n",
              "      quickchartButtonEl.disabled = true;  // To prevent multiple clicks.\n",
              "      quickchartButtonEl.classList.add('colab-df-spinner');\n",
              "      try {\n",
              "        const charts = await google.colab.kernel.invokeFunction(\n",
              "            'suggestCharts', [key], {});\n",
              "      } catch (error) {\n",
              "        console.error('Error during call to suggestCharts:', error);\n",
              "      }\n",
              "      quickchartButtonEl.classList.remove('colab-df-spinner');\n",
              "      quickchartButtonEl.classList.add('colab-df-quickchart-complete');\n",
              "    }\n",
              "    (() => {\n",
              "      let quickchartButtonEl =\n",
              "        document.querySelector('#df-e4de67ea-8f74-4ded-9340-614e19b3cee8 button');\n",
              "      quickchartButtonEl.style.display =\n",
              "        google.colab.kernel.accessAllowed ? 'block' : 'none';\n",
              "    })();\n",
              "  </script>\n",
              "</div>\n",
              "    </div>\n",
              "  </div>\n"
            ]
          },
          "metadata": {},
          "execution_count": 54
        }
      ]
    },
    {
      "cell_type": "code",
      "source": [
        "plt.subplots(figsize=(12,8))\n",
        "ax=sns.barplot(x='Model',y=\"Accuracy_score\",data=result_df)\n",
        "labels = (result_df[\"Accuracy_score\"])\n",
        "# add result numbers on barchart\n",
        "for i, v in enumerate(labels):\n",
        "    ax.text(i, v+1, str(v), horizontalalignment = 'center', size = 15, color = 'black')"
      ],
      "metadata": {
        "id": "sJ6RWEtt7izv",
        "colab": {
          "base_uri": "https://localhost:8080/",
          "height": 696
        },
        "outputId": "8504c546-edf9-4699-877a-30212285f64e"
      },
      "execution_count": null,
      "outputs": [
        {
          "output_type": "display_data",
          "data": {
            "text/plain": [
              "<Figure size 1200x800 with 1 Axes>"
            ],
            "image/png": "[encoded data removed]"
          },
          "metadata": {}
        }
      ]
    },
    {
      "cell_type": "code",
      "source": [],
      "metadata": {
        "id": "2rke9UTvdxJR"
      },
      "execution_count": null,
      "outputs": []
    }
  ]
}