{
  "nbformat": 4,
  "nbformat_minor": 0,
  "metadata": {
    "colab": {
      "provenance": []
    },
    "kernelspec": {
      "name": "python3",
      "display_name": "Python 3"
    },
    "language_info": {
      "name": "python"
    }
  },
  "cells": [
    {
      "cell_type": "markdown",
      "source": [
        "Kelompok 2 :\n",
        "\n",
        "\n",
        "*   Marta Yulianti / 215314154\n",
        "*   Victoria Alysha F S / 215314158\n",
        "*   Resiana Kinanti Jati / 215314159\n",
        "*   Loadtriani Oktavia S / 215314172\n",
        "\n",
        "\n",
        "\n"
      ],
      "metadata": {
        "id": "ivzJIc8BYvi1"
      }
    },
    {
      "cell_type": "code",
      "execution_count": null,
      "metadata": {
        "id": "Ra-r6dkWVyIJ"
      },
      "outputs": [],
      "source": [
        "alternatif = [\"Yovie & nuno\", \"Juicy Luicy\",\"Tulus\", \"Tiara Andini\", \"NDX A.K.A\", \"Fiersa Besari\"]"
      ]
    },
    {
      "cell_type": "code",
      "source": [
        "kriteria = [\"Popularitas\",\"Harga\",\"Lokasi\"]\n",
        "costbenefit = [\"benefit\",\"cost\",\"benefit\"]\n",
        "kepentingan = [4,5,4]\n",
        "alternatifkriteria=[[3,1,4],\n",
        "                    [2,3,4],\n",
        "                    [4,2,4],\n",
        "                    [4,3,3],\n",
        "                    [3,3,5],\n",
        "                    [3,5,4]]"
      ],
      "metadata": {
        "id": "3Q3RlR7qWAW2"
      },
      "execution_count": null,
      "outputs": []
    },
    {
      "cell_type": "code",
      "source": [
        "#Mencetak isi variabel alternatif\n",
        "print(str(alternatif))"
      ],
      "metadata": {
        "colab": {
          "base_uri": "https://localhost:8080/"
        },
        "id": "E-nIc_3PXwec",
        "outputId": "19295133-9a6e-475a-ce86-1f8d7a00b290"
      },
      "execution_count": null,
      "outputs": [
        {
          "output_type": "stream",
          "name": "stdout",
          "text": [
            "['Yovie & nuno', 'Juicy Luicy', 'Tulus', 'Tiara Andini', 'NDX A.K.A', 'Fiersa Besari']\n"
          ]
        }
      ]
    },
    {
      "cell_type": "code",
      "source": [
        "#Mencetak isi variabel kriteria\n",
        "print(str(kriteria))"
      ],
      "metadata": {
        "colab": {
          "base_uri": "https://localhost:8080/"
        },
        "id": "pKxlRggZxr6A",
        "outputId": "6a4a1ca8-09f0-4845-9bec-4a73b30b968a"
      },
      "execution_count": null,
      "outputs": [
        {
          "output_type": "stream",
          "name": "stdout",
          "text": [
            "['Popularitas', 'Harga', 'Lokasi']\n"
          ]
        }
      ]
    },
    {
      "cell_type": "code",
      "source": [
        "#Mencetak isi variabel costbenefit\n",
        "print(str(costbenefit))"
      ],
      "metadata": {
        "colab": {
          "base_uri": "https://localhost:8080/"
        },
        "id": "lmXMaR-xX-z0",
        "outputId": "a9ac2cf8-c8ab-4cdf-ad8c-eca74cea961e"
      },
      "execution_count": null,
      "outputs": [
        {
          "output_type": "stream",
          "name": "stdout",
          "text": [
            "['benefit', 'cost', 'benefit']\n"
          ]
        }
      ]
    },
    {
      "cell_type": "code",
      "source": [
        "#Mencetak isi variabel alternatif kriteria\n",
        "print(str(alternatifkriteria))"
      ],
      "metadata": {
        "colab": {
          "base_uri": "https://localhost:8080/"
        },
        "id": "D_w5zldwYA7X",
        "outputId": "51d47ddb-5198-48b6-ca65-f1f13fc9286b"
      },
      "execution_count": null,
      "outputs": [
        {
          "output_type": "stream",
          "name": "stdout",
          "text": [
            "[[3, 1, 4], [2, 3, 4], [4, 2, 4], [4, 3, 3], [3, 3, 5], [3, 5, 4]]\n"
          ]
        }
      ]
    },
    {
      "cell_type": "markdown",
      "source": [
        "Metode Technique for Order of Prefrence by Similirity"
      ],
      "metadata": {
        "id": "Cl6yZFQAYEiI"
      }
    },
    {
      "cell_type": "code",
      "source": [
        "#Code untuk mendapatkan nilai alternatif\n",
        "pembagi =[]\n",
        "for i in range(len(kriteria)):\n",
        "  pembagi.append(0)\n",
        "  for j in range(len(alternatif)):\n",
        "    pembagi[i] = pembagi[i] + (alternatifkriteria[j][i] * alternatifkriteria[j][i])\n",
        "  pembagi[i]= pembagi[i]**(1/2.0)\n",
        "print(str(pembagi))"
      ],
      "metadata": {
        "colab": {
          "base_uri": "https://localhost:8080/"
        },
        "id": "sRuuiw2pYDNk",
        "outputId": "52180e96-9cf1-4430-a649-ee41d138e075"
      },
      "execution_count": null,
      "outputs": [
        {
          "output_type": "stream",
          "name": "stdout",
          "text": [
            "[7.937253933193772, 7.54983443527075, 9.899494936611665]\n"
          ]
        }
      ]
    },
    {
      "cell_type": "code",
      "source": [
        "#Code untuk mencapatka nilai matriks ternormalisasi\n",
        "normalisasi = []\n",
        "for i in range(len(alternatif)):\n",
        "  normalisasi.append([])\n",
        "  for j in range(len(kriteria)):\n",
        "    normalisasi[i].append(0)\n",
        "    normalisasi[i][j] = alternatifkriteria[i][j] / pembagi[j]\n",
        "print(str(normalisasi))"
      ],
      "metadata": {
        "colab": {
          "base_uri": "https://localhost:8080/"
        },
        "id": "GgncPno1YIzk",
        "outputId": "1ff7c0df-bfec-4b6c-a698-34cbdcfb1390"
      },
      "execution_count": null,
      "outputs": [
        {
          "output_type": "stream",
          "name": "stdout",
          "text": [
            "[[0.3779644730092272, 0.13245323570650439, 0.40406101782088427], [0.2519763153394848, 0.39735970711951313, 0.40406101782088427], [0.5039526306789696, 0.26490647141300877, 0.40406101782088427], [0.5039526306789696, 0.39735970711951313, 0.30304576336566325], [0.3779644730092272, 0.39735970711951313, 0.5050762722761054], [0.3779644730092272, 0.6622661785325219, 0.40406101782088427]]\n"
          ]
        }
      ]
    },
    {
      "cell_type": "markdown",
      "source": [
        "R Ternormalisasi"
      ],
      "metadata": {
        "id": "hp3aLxjIYJzT"
      }
    },
    {
      "cell_type": "code",
      "source": [
        "#Code untuk mendapatkan matriks normalisasi terbobot\n",
        "terbobot = []\n",
        "for i in range(len(alternatif)):\n",
        "  terbobot.append([])\n",
        "  for j in range(len(kriteria)):\n",
        "    terbobot[i].append(0)\n",
        "    terbobot[i][j] = normalisasi[i][j] * kepentingan[j]\n",
        "print(str(terbobot))"
      ],
      "metadata": {
        "colab": {
          "base_uri": "https://localhost:8080/"
        },
        "id": "U2PsMlclYOdi",
        "outputId": "a0421ca2-1f2d-4165-806d-1df7d9746275"
      },
      "execution_count": null,
      "outputs": [
        {
          "output_type": "stream",
          "name": "stdout",
          "text": [
            "[[1.5118578920369088, 0.6622661785325219, 1.616244071283537], [1.0079052613579391, 1.9867985355975657, 1.616244071283537], [2.0158105227158782, 1.3245323570650438, 1.616244071283537], [2.0158105227158782, 1.9867985355975657, 1.212183053462653], [1.5118578920369088, 1.9867985355975657, 2.0203050891044216], [1.5118578920369088, 3.3113308926626095, 1.616244071283537]]\n"
          ]
        }
      ]
    },
    {
      "cell_type": "markdown",
      "source": [
        "Solusi Positif"
      ],
      "metadata": {
        "id": "-Cb4daWnYcvY"
      }
    },
    {
      "cell_type": "code",
      "source": [
        "#Code untuk memnentukan solusi ideal positif\n",
        "aplus = []\n",
        "for i in range(len(kriteria)):\n",
        "  aplus.append(0)\n",
        "  if costbenefit[i]== 'cost':\n",
        "    for j in range(len(alternatif)):\n",
        "      if j == 0:\n",
        "        aplus[i] = terbobot[j][i]\n",
        "      else:\n",
        "        if aplus[i] > terbobot[j][i]:\n",
        "          aplus[i] = terbobot[j][i]\n",
        "  else: #costbenefit[i] == 'benefit':\n",
        "    for j in range(len(alternatif)):\n",
        "      if j == 0:\n",
        "        aplus[i] = terbobot[j][i]\n",
        "      else:\n",
        "        if aplus[i] < terbobot[j][i]:\n",
        "            aplus[i] = terbobot[j][i]\n",
        "print(str(aplus))"
      ],
      "metadata": {
        "colab": {
          "base_uri": "https://localhost:8080/"
        },
        "id": "KLnIsj90Ya-h",
        "outputId": "d04a0030-4133-468e-8f0c-667495a46155"
      },
      "execution_count": null,
      "outputs": [
        {
          "output_type": "stream",
          "name": "stdout",
          "text": [
            "[2.0158105227158782, 0.6622661785325219, 2.0203050891044216]\n"
          ]
        }
      ]
    },
    {
      "cell_type": "code",
      "source": [
        "#Code untuk mendapatkan solusi ideal negatif\n",
        "amin = []\n",
        "for i in range(len(kriteria)):\n",
        "  amin.append(0)\n",
        "  if costbenefit[i]== 'cost':\n",
        "    for j in range(len(alternatif)):\n",
        "      if j == 0:\n",
        "        amin[i] = terbobot[j][i]\n",
        "      else:\n",
        "        if amin[i] < terbobot[j][i]:\n",
        "          amin[i] = terbobot[j][i]\n",
        "  else:\n",
        "    for j in range(len(alternatif)):\n",
        "      if j == 0:\n",
        "        amin[i] = terbobot[j][i]\n",
        "      else:\n",
        "        if amin[i] > terbobot[j][i]:\n",
        "            amin[i] = terbobot[j][i]\n",
        "print(str(amin))"
      ],
      "metadata": {
        "colab": {
          "base_uri": "https://localhost:8080/"
        },
        "id": "gGw_jL8HYhd-",
        "outputId": "5f68d2f6-f882-4efb-934b-c12a8d72b2a0"
      },
      "execution_count": null,
      "outputs": [
        {
          "output_type": "stream",
          "name": "stdout",
          "text": [
            "[1.0079052613579391, 3.3113308926626095, 1.212183053462653]\n"
          ]
        }
      ]
    },
    {
      "cell_type": "code",
      "source": [
        "#code untuk mendapatkan jarak alternatif dgn solusi ideal positif\n",
        "dplus =[]\n",
        "for i in range(len(alternatif)):\n",
        "    dplus.append(0)\n",
        "    for j in range(len(kriteria)):\n",
        "        dplus[i] = dplus[i] + ((aplus[j] - terbobot[i][j]) * (aplus[j] - terbobot[i][j]))\n",
        "    dplus[i]= dplus[i]**(1/2.0)\n",
        "print(str(dplus))"
      ],
      "metadata": {
        "colab": {
          "base_uri": "https://localhost:8080/"
        },
        "id": "wIaSrvTVegB7",
        "outputId": "bb73f078-b6cc-4f25-b8a4-40db22abff75"
      },
      "execution_count": null,
      "outputs": [
        {
          "output_type": "stream",
          "name": "stdout",
          "text": [
            "[0.6459361888690732, 1.7127534226816612, 0.7757975234238115, 1.5515950468476227, 1.4171641467665397, 2.7266788259235493]\n"
          ]
        }
      ]
    },
    {
      "cell_type": "code",
      "source": [
        "#Code untuk mendapatkan jarak alternatif dengan solusi ideal negatif\n",
        "dmin=[]\n",
        "for i in range(len(alternatif)):\n",
        "    dmin.append(0)\n",
        "    for j in range(len(kriteria)):\n",
        "        dmin[i] = dmin[i] + ((terbobot[i][j] - amin[j]) * (terbobot[i][j] - amin[j]))\n",
        "    dmin[i]= dmin[i]**(1/2.0)\n",
        "print(str(dmin))"
      ],
      "metadata": {
        "colab": {
          "base_uri": "https://localhost:8080/"
        },
        "id": "dLrolFnFek5m",
        "outputId": "d534ee40-1711-4c21-cd8e-20a37d4cf6be"
      },
      "execution_count": null,
      "outputs": [
        {
          "output_type": "stream",
          "name": "stdout",
          "text": [
            "[2.7266788259235493, 1.384792862140302, 2.2641790439468554, 1.664409499127332, 1.631384517325799, 0.6459361888690731]\n"
          ]
        }
      ]
    },
    {
      "cell_type": "code",
      "source": [
        "#code untuk menyimpan nilai preferensi unutk setiap alternatif\n",
        "hasil = []\n",
        "for i in range(len(alternatif)):\n",
        "  hasil.append(0)\n",
        "  for j in range(len(kriteria)):\n",
        "    hasil[i] = dmin[i] / (dmin[i] + dplus[i])\n",
        "print(str(alternatif))"
      ],
      "metadata": {
        "colab": {
          "base_uri": "https://localhost:8080/"
        },
        "id": "ak1DeX_bemoU",
        "outputId": "c8f6d413-d5c0-4315-cede-264178a31222"
      },
      "execution_count": null,
      "outputs": [
        {
          "output_type": "stream",
          "name": "stdout",
          "text": [
            "['Yovie & nuno', 'Juicy Luicy', 'Tulus', 'Tiara Andini', 'NDX A.K.A', 'Fiersa Besari']\n"
          ]
        }
      ]
    },
    {
      "cell_type": "code",
      "source": [
        "print(str(hasil))"
      ],
      "metadata": {
        "colab": {
          "base_uri": "https://localhost:8080/"
        },
        "id": "aog7VREeeoZm",
        "outputId": "f9cc3784-a837-4c89-eb05-256949f6909d"
      },
      "execution_count": null,
      "outputs": [
        {
          "output_type": "stream",
          "name": "stdout",
          "text": [
            "[0.8084761569180197, 0.4470612332496253, 0.7448014791460009, 0.5175395355738698, 0.5351348123588245, 0.19152384308198037]\n"
          ]
        }
      ]
    },
    {
      "cell_type": "code",
      "source": [
        "alternatifrangking = []\n",
        "hasilrangking = []"
      ],
      "metadata": {
        "id": "1PLuqeD6eqf0"
      },
      "execution_count": null,
      "outputs": []
    },
    {
      "cell_type": "code",
      "source": [
        "for i in range(len(alternatif)):\n",
        "  hasilrangking.append(hasil[i])\n",
        "  alternatifrangking.append(alternatif[i])"
      ],
      "metadata": {
        "id": "6dN_Nm0SesC4"
      },
      "execution_count": null,
      "outputs": []
    },
    {
      "cell_type": "code",
      "source": [
        "4for i in range(len(alternatif)):\n",
        "  for j in range(len(alternatif)):\n",
        "    if j > i:\n",
        "      if hasilrangking[j] > hasilrangking[i]:\n",
        "          tmphasil = hasilrangking[i]\n",
        "          tmpalternatif = alternatifrangking[i]\n",
        "          hasilrangking[i] = hasilrangking[j]\n",
        "          alternatifrangking[i] = alternatifrangking[j]\n",
        "          hasilrangking[j] = tmphasil\n",
        "          alternatifrangking[j] =tmpalternatif\n",
        "\n"
      ],
      "metadata": {
        "id": "HTOoJNhleuD3"
      },
      "execution_count": null,
      "outputs": []
    },
    {
      "cell_type": "code",
      "source": [
        "print(str(alternatifrangking))"
      ],
      "metadata": {
        "colab": {
          "base_uri": "https://localhost:8080/"
        },
        "id": "cpB0uY2Ley25",
        "outputId": "29efd322-2eb6-4d4b-e903-133274b4154c"
      },
      "execution_count": null,
      "outputs": [
        {
          "output_type": "stream",
          "name": "stdout",
          "text": [
            "['Yovie & nuno', 'Tulus', 'NDX A.K.A', 'Tiara Andini', 'Juicy Luicy', 'Fiersa Besari']\n"
          ]
        }
      ]
    },
    {
      "cell_type": "code",
      "source": [
        "print(str(hasilrangking))"
      ],
      "metadata": {
        "colab": {
          "base_uri": "https://localhost:8080/"
        },
        "id": "dTaQvm4oe0gG",
        "outputId": "f03b3f46-2956-41e4-dbee-403bb6f1c658"
      },
      "execution_count": null,
      "outputs": [
        {
          "output_type": "stream",
          "name": "stdout",
          "text": [
            "[0.8084761569180197, 0.7448014791460009, 0.5351348123588245, 0.5175395355738698, 0.4470612332496253, 0.19152384308198037]\n"
          ]
        }
      ]
    },
    {
      "cell_type": "code",
      "source": [],
      "metadata": {
        "id": "MUMHXeRMe603"
      },
      "execution_count": null,
      "outputs": []
    }
  ]
}